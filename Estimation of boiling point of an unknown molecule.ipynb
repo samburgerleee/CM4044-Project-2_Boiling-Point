{
  "cells": [
    {
      "cell_type": "markdown",
      "metadata": {
        "id": "0p16x_cPC2Sv"
      },
      "source": [
        "# CM4044 Project 2\n",
        "Machine Learning to Estimate Normal Boiling Point of Hydrocarbons"
      ]
    },
    {
      "cell_type": "markdown",
      "metadata": {
        "id": "YAQ8ZRQUC2Sz"
      },
      "source": [
        "Presenters: Lee Yuan (U1640404K) and Josefanny Amadea (U1640046K)"
      ]
    },
    {
      "cell_type": "markdown",
      "metadata": {
        "id": "AMoEmwLYC2S0"
      },
      "source": [
        "# 1. Introduction"
      ]
    },
    {
      "cell_type": "code",
      "execution_count": null,
      "metadata": {
        "id": "jUTmeamFC2S2"
      },
      "outputs": [],
      "source": [
        "# load the modules from RDKit\n",
        "# these modules provide the functionalities to calculate molecular descriptors\n",
        "from rdkit import Chem, DataStructs\n",
        "from rdkit.Chem import AllChem\n",
        "from rdkit.ML.Descriptors import MoleculeDescriptors\n",
        "from rdkit.Chem import Descriptors\n",
        "from rdkit.Chem.EState import Fingerprinter\n",
        "from rdkit.Chem.Draw import IPythonConsole\n",
        " \n",
        "# load Pandas to hold data from file\n",
        "# numpy to handle data\n",
        "# matplotlib to display data\n",
        "import pandas as pd\n",
        "import numpy as np\n",
        "import matplotlib.pyplot as plt\n",
        " \n",
        "# machine learning models are trained based on scikit-learn package\n",
        "from sklearn.preprocessing import StandardScaler\n",
        "from sklearn.model_selection import train_test_split\n",
        "from sklearn.metrics import r2_score\n",
        "from sklearn.ensemble import RandomForestRegressor\n",
        "from sklearn import gaussian_process\n",
        "from sklearn.gaussian_process.kernels import Matern, WhiteKernel, ConstantKernel, RBF\n",
        "from sklearn.neighbors import KNeighborsRegressor"
      ]
    },
    {
      "cell_type": "markdown",
      "metadata": {
        "id": "B-u6kSvsC2S4"
      },
      "source": [
        "## Read data from file"
      ]
    },
    {
      "cell_type": "code",
      "execution_count": null,
      "metadata": {
        "id": "ztBcTwU3C2S4",
        "outputId": "f96afc01-5547-4092-8e4f-3b80315e65a0"
      },
      "outputs": [
        {
          "data": {
            "text/html": [
              "<div>\n",
              "<style scoped>\n",
              "    .dataframe tbody tr th:only-of-type {\n",
              "        vertical-align: middle;\n",
              "    }\n",
              "\n",
              "    .dataframe tbody tr th {\n",
              "        vertical-align: top;\n",
              "    }\n",
              "\n",
              "    .dataframe thead th {\n",
              "        text-align: right;\n",
              "    }\n",
              "</style>\n",
              "<table border=\"1\" class=\"dataframe\">\n",
              "  <thead>\n",
              "    <tr style=\"text-align: right;\">\n",
              "      <th></th>\n",
              "      <th>No.</th>\n",
              "      <th>Name</th>\n",
              "      <th>SMILES strings</th>\n",
              "      <th>T_calc (K)</th>\n",
              "      <th>T_publ (K)</th>\n",
              "      <th>T_pred M-235 (K)</th>\n",
              "      <th>T_pred M-20 (K)</th>\n",
              "      <th>Absolute Error M-235 (K)</th>\n",
              "      <th>Absolute Error M-20 (K)</th>\n",
              "      <th>Relative Error M-235 (%)</th>\n",
              "      <th>Relative Error M-20 (%)</th>\n",
              "    </tr>\n",
              "  </thead>\n",
              "  <tbody>\n",
              "    <tr>\n",
              "      <td>0</td>\n",
              "      <td>1</td>\n",
              "      <td>ethane</td>\n",
              "      <td>CC</td>\n",
              "      <td>NaN</td>\n",
              "      <td>184.6</td>\n",
              "      <td>184.6</td>\n",
              "      <td>184.9</td>\n",
              "      <td>-0.1</td>\n",
              "      <td>-0.3</td>\n",
              "      <td>0.0</td>\n",
              "      <td>-0.2</td>\n",
              "    </tr>\n",
              "    <tr>\n",
              "      <td>1</td>\n",
              "      <td>2</td>\n",
              "      <td>propane</td>\n",
              "      <td>CCC</td>\n",
              "      <td>NaN</td>\n",
              "      <td>231.1</td>\n",
              "      <td>230.7</td>\n",
              "      <td>230.9</td>\n",
              "      <td>0.3</td>\n",
              "      <td>0.1</td>\n",
              "      <td>0.1</td>\n",
              "      <td>0.1</td>\n",
              "    </tr>\n",
              "    <tr>\n",
              "      <td>2</td>\n",
              "      <td>3</td>\n",
              "      <td>n-butane</td>\n",
              "      <td>CCCC</td>\n",
              "      <td>NaN</td>\n",
              "      <td>272.7</td>\n",
              "      <td>270.4</td>\n",
              "      <td>270.4</td>\n",
              "      <td>2.2</td>\n",
              "      <td>2.2</td>\n",
              "      <td>0.8</td>\n",
              "      <td>0.8</td>\n",
              "    </tr>\n",
              "    <tr>\n",
              "      <td>3</td>\n",
              "      <td>4</td>\n",
              "      <td>n-pentane</td>\n",
              "      <td>CCCCC</td>\n",
              "      <td>NaN</td>\n",
              "      <td>309.2</td>\n",
              "      <td>307.1</td>\n",
              "      <td>306.7</td>\n",
              "      <td>2.1</td>\n",
              "      <td>2.5</td>\n",
              "      <td>0.7</td>\n",
              "      <td>0.8</td>\n",
              "    </tr>\n",
              "    <tr>\n",
              "      <td>4</td>\n",
              "      <td>5</td>\n",
              "      <td>n-hexane</td>\n",
              "      <td>CCCCCC</td>\n",
              "      <td>NaN</td>\n",
              "      <td>341.9</td>\n",
              "      <td>339.0</td>\n",
              "      <td>338.4</td>\n",
              "      <td>2.9</td>\n",
              "      <td>3.5</td>\n",
              "      <td>0.8</td>\n",
              "      <td>1.0</td>\n",
              "    </tr>\n",
              "    <tr>\n",
              "      <td>...</td>\n",
              "      <td>...</td>\n",
              "      <td>...</td>\n",
              "      <td>...</td>\n",
              "      <td>...</td>\n",
              "      <td>...</td>\n",
              "      <td>...</td>\n",
              "      <td>...</td>\n",
              "      <td>...</td>\n",
              "      <td>...</td>\n",
              "      <td>...</td>\n",
              "      <td>...</td>\n",
              "    </tr>\n",
              "    <tr>\n",
              "      <td>250</td>\n",
              "      <td>251</td>\n",
              "      <td>1,5-cyclooctadiene</td>\n",
              "      <td>C1=CCCC=CCC1</td>\n",
              "      <td>409.9</td>\n",
              "      <td>423.3</td>\n",
              "      <td>415.7</td>\n",
              "      <td>414.6</td>\n",
              "      <td>-5.8</td>\n",
              "      <td>-4.7</td>\n",
              "      <td>-1.4</td>\n",
              "      <td>1.1</td>\n",
              "    </tr>\n",
              "    <tr>\n",
              "      <td>251</td>\n",
              "      <td>252</td>\n",
              "      <td>2,5-dimethyl-1,5-hexadiene</td>\n",
              "      <td>CC(=C)CCC(C)=C</td>\n",
              "      <td>NaN</td>\n",
              "      <td>387.4</td>\n",
              "      <td>380.8</td>\n",
              "      <td>383.2</td>\n",
              "      <td>6.6</td>\n",
              "      <td>4.2</td>\n",
              "      <td>1.7</td>\n",
              "      <td>1.1</td>\n",
              "    </tr>\n",
              "    <tr>\n",
              "      <td>252</td>\n",
              "      <td>253</td>\n",
              "      <td>c-1-propenylbenzene</td>\n",
              "      <td>C=CCC1=CC=CC=C1</td>\n",
              "      <td>441.9</td>\n",
              "      <td>452</td>\n",
              "      <td>436.9</td>\n",
              "      <td>434.5</td>\n",
              "      <td>5.0</td>\n",
              "      <td>7.4</td>\n",
              "      <td>1.1</td>\n",
              "      <td>1.7</td>\n",
              "    </tr>\n",
              "    <tr>\n",
              "      <td>253</td>\n",
              "      <td>254</td>\n",
              "      <td>1-phenylnaphtalene</td>\n",
              "      <td>C1=CC=C(C=C1)C1=C2C=CC=CC2=CC=C1</td>\n",
              "      <td>621.0</td>\n",
              "      <td>607.1</td>\n",
              "      <td>643.6</td>\n",
              "      <td>634.0</td>\n",
              "      <td>-22.6</td>\n",
              "      <td>-13.0</td>\n",
              "      <td>-3.6</td>\n",
              "      <td>-2.1</td>\n",
              "    </tr>\n",
              "    <tr>\n",
              "      <td>254</td>\n",
              "      <td>255</td>\n",
              "      <td>indane</td>\n",
              "      <td>C1CCC2=CC=CC=C12</td>\n",
              "      <td>NaN</td>\n",
              "      <td>451.1</td>\n",
              "      <td>451.4</td>\n",
              "      <td>447.1</td>\n",
              "      <td>-0.3</td>\n",
              "      <td>4.0</td>\n",
              "      <td>-0.1</td>\n",
              "      <td>0.9</td>\n",
              "    </tr>\n",
              "  </tbody>\n",
              "</table>\n",
              "<p>255 rows × 11 columns</p>\n",
              "</div>"
            ],
            "text/plain": [
              "     No.                        Name                    SMILES strings  \\\n",
              "0      1                      ethane                                CC   \n",
              "1      2                     propane                               CCC   \n",
              "2      3                    n-butane                              CCCC   \n",
              "3      4                   n-pentane                             CCCCC   \n",
              "4      5                    n-hexane                            CCCCCC   \n",
              "..   ...                         ...                               ...   \n",
              "250  251          1,5-cyclooctadiene                      C1=CCCC=CCC1   \n",
              "251  252  2,5-dimethyl-1,5-hexadiene                    CC(=C)CCC(C)=C   \n",
              "252  253         c-1-propenylbenzene                   C=CCC1=CC=CC=C1   \n",
              "253  254          1-phenylnaphtalene  C1=CC=C(C=C1)C1=C2C=CC=CC2=CC=C1   \n",
              "254  255                      indane                  C1CCC2=CC=CC=C12   \n",
              "\n",
              "     T_calc (K) T_publ (K)  T_pred M-235 (K)  T_pred M-20 (K)  \\\n",
              "0           NaN      184.6             184.6            184.9   \n",
              "1           NaN      231.1             230.7            230.9   \n",
              "2           NaN      272.7             270.4            270.4   \n",
              "3           NaN      309.2             307.1            306.7   \n",
              "4           NaN      341.9             339.0            338.4   \n",
              "..          ...        ...               ...              ...   \n",
              "250       409.9      423.3             415.7            414.6   \n",
              "251         NaN      387.4             380.8            383.2   \n",
              "252       441.9        452             436.9            434.5   \n",
              "253       621.0      607.1             643.6            634.0   \n",
              "254         NaN      451.1             451.4            447.1   \n",
              "\n",
              "     Absolute Error M-235 (K)  Absolute Error M-20 (K)  \\\n",
              "0                        -0.1                     -0.3   \n",
              "1                         0.3                      0.1   \n",
              "2                         2.2                      2.2   \n",
              "3                         2.1                      2.5   \n",
              "4                         2.9                      3.5   \n",
              "..                        ...                      ...   \n",
              "250                      -5.8                     -4.7   \n",
              "251                       6.6                      4.2   \n",
              "252                       5.0                      7.4   \n",
              "253                     -22.6                    -13.0   \n",
              "254                      -0.3                      4.0   \n",
              "\n",
              "     Relative Error M-235 (%)  Relative Error M-20 (%)  \n",
              "0                         0.0                     -0.2  \n",
              "1                         0.1                      0.1  \n",
              "2                         0.8                      0.8  \n",
              "3                         0.7                      0.8  \n",
              "4                         0.8                      1.0  \n",
              "..                        ...                      ...  \n",
              "250                      -1.4                      1.1  \n",
              "251                       1.7                      1.1  \n",
              "252                       1.1                      1.7  \n",
              "253                      -3.6                     -2.1  \n",
              "254                      -0.1                      0.9  \n",
              "\n",
              "[255 rows x 11 columns]"
            ]
          },
          "execution_count": 2,
          "metadata": {},
          "output_type": "execute_result"
        }
      ],
      "source": [
        "#read data from file\n",
        "data = pd.read_csv('Compiled3.csv', sep=',',dtype={'Name': object, 'SMILES strings': str, 'T_publ (K)': object})\n",
        "data"
      ]
    },
    {
      "cell_type": "code",
      "execution_count": null,
      "metadata": {
        "id": "k-wyvoDGC2S5"
      },
      "outputs": [],
      "source": [
        "#a function to calculate molecular descriptors for an input mol\n",
        "def get_fps(mol):\n",
        "    calc=MoleculeDescriptors.MolecularDescriptorCalculator([x[0] for x in Descriptors._descList])\n",
        "    ds = np.asarray(calc.CalcDescriptors(mol)) \n",
        "    arr=Fingerprinter.FingerprintMol(mol)[0]\n",
        "    \n",
        "    return ds"
      ]
    },
    {
      "cell_type": "code",
      "execution_count": null,
      "metadata": {
        "id": "pYfio6M1C2S6"
      },
      "outputs": [],
      "source": [
        "calc=MoleculeDescriptors.MolecularDescriptorCalculator([x[0] for x in Descriptors._descList])\n",
        "ds = np.asarray(calc.CalcDescriptors(Chem.MolFromSmiles('CC')))\n",
        "arr=Fingerprinter.FingerprintMol(Chem.MolFromSmiles('CC'))[0]"
      ]
    },
    {
      "cell_type": "code",
      "execution_count": null,
      "metadata": {
        "id": "K1X1H54oC2S6",
        "outputId": "99bb0265-9403-4af9-b757-f2d7394d94cd"
      },
      "outputs": [
        {
          "data": {
            "text/plain": [
              "79"
            ]
          },
          "execution_count": 5,
          "metadata": {},
          "output_type": "execute_result"
        }
      ],
      "source": [
        "len(arr)"
      ]
    },
    {
      "cell_type": "code",
      "execution_count": null,
      "metadata": {
        "id": "fnjiL9urC2S6",
        "outputId": "7889eac7-b4ad-40a6-b09f-436452cdde11"
      },
      "outputs": [
        {
          "data": {
            "text/plain": [
              "200"
            ]
          },
          "execution_count": 6,
          "metadata": {},
          "output_type": "execute_result"
        }
      ],
      "source": [
        "len(ds)"
      ]
    },
    {
      "cell_type": "code",
      "execution_count": null,
      "metadata": {
        "id": "xKmWLKbVC2S7",
        "outputId": "e1e77abb-77f3-42f2-eb94-646b617e2cc4"
      },
      "outputs": [
        {
          "name": "stdout",
          "output_type": "stream",
          "text": [
            "200\n",
            "['MaxEStateIndex', 'MinEStateIndex', 'MaxAbsEStateIndex', 'MinAbsEStateIndex', 'qed', 'MolWt', 'HeavyAtomMolWt', 'ExactMolWt', 'NumValenceElectrons', 'NumRadicalElectrons', 'MaxPartialCharge', 'MinPartialCharge', 'MaxAbsPartialCharge', 'MinAbsPartialCharge', 'FpDensityMorgan1', 'FpDensityMorgan2', 'FpDensityMorgan3', 'BalabanJ', 'BertzCT', 'Chi0', 'Chi0n', 'Chi0v', 'Chi1', 'Chi1n', 'Chi1v', 'Chi2n', 'Chi2v', 'Chi3n', 'Chi3v', 'Chi4n', 'Chi4v', 'HallKierAlpha', 'Ipc', 'Kappa1', 'Kappa2', 'Kappa3', 'LabuteASA', 'PEOE_VSA1', 'PEOE_VSA10', 'PEOE_VSA11', 'PEOE_VSA12', 'PEOE_VSA13', 'PEOE_VSA14', 'PEOE_VSA2', 'PEOE_VSA3', 'PEOE_VSA4', 'PEOE_VSA5', 'PEOE_VSA6', 'PEOE_VSA7', 'PEOE_VSA8', 'PEOE_VSA9', 'SMR_VSA1', 'SMR_VSA10', 'SMR_VSA2', 'SMR_VSA3', 'SMR_VSA4', 'SMR_VSA5', 'SMR_VSA6', 'SMR_VSA7', 'SMR_VSA8', 'SMR_VSA9', 'SlogP_VSA1', 'SlogP_VSA10', 'SlogP_VSA11', 'SlogP_VSA12', 'SlogP_VSA2', 'SlogP_VSA3', 'SlogP_VSA4', 'SlogP_VSA5', 'SlogP_VSA6', 'SlogP_VSA7', 'SlogP_VSA8', 'SlogP_VSA9', 'TPSA', 'EState_VSA1', 'EState_VSA10', 'EState_VSA11', 'EState_VSA2', 'EState_VSA3', 'EState_VSA4', 'EState_VSA5', 'EState_VSA6', 'EState_VSA7', 'EState_VSA8', 'EState_VSA9', 'VSA_EState1', 'VSA_EState10', 'VSA_EState2', 'VSA_EState3', 'VSA_EState4', 'VSA_EState5', 'VSA_EState6', 'VSA_EState7', 'VSA_EState8', 'VSA_EState9', 'FractionCSP3', 'HeavyAtomCount', 'NHOHCount', 'NOCount', 'NumAliphaticCarbocycles', 'NumAliphaticHeterocycles', 'NumAliphaticRings', 'NumAromaticCarbocycles', 'NumAromaticHeterocycles', 'NumAromaticRings', 'NumHAcceptors', 'NumHDonors', 'NumHeteroatoms', 'NumRotatableBonds', 'NumSaturatedCarbocycles', 'NumSaturatedHeterocycles', 'NumSaturatedRings', 'RingCount', 'MolLogP', 'MolMR', 'fr_Al_COO', 'fr_Al_OH', 'fr_Al_OH_noTert', 'fr_ArN', 'fr_Ar_COO', 'fr_Ar_N', 'fr_Ar_NH', 'fr_Ar_OH', 'fr_COO', 'fr_COO2', 'fr_C_O', 'fr_C_O_noCOO', 'fr_C_S', 'fr_HOCCN', 'fr_Imine', 'fr_NH0', 'fr_NH1', 'fr_NH2', 'fr_N_O', 'fr_Ndealkylation1', 'fr_Ndealkylation2', 'fr_Nhpyrrole', 'fr_SH', 'fr_aldehyde', 'fr_alkyl_carbamate', 'fr_alkyl_halide', 'fr_allylic_oxid', 'fr_amide', 'fr_amidine', 'fr_aniline', 'fr_aryl_methyl', 'fr_azide', 'fr_azo', 'fr_barbitur', 'fr_benzene', 'fr_benzodiazepine', 'fr_bicyclic', 'fr_diazo', 'fr_dihydropyridine', 'fr_epoxide', 'fr_ester', 'fr_ether', 'fr_furan', 'fr_guanido', 'fr_halogen', 'fr_hdrzine', 'fr_hdrzone', 'fr_imidazole', 'fr_imide', 'fr_isocyan', 'fr_isothiocyan', 'fr_ketone', 'fr_ketone_Topliss', 'fr_lactam', 'fr_lactone', 'fr_methoxy', 'fr_morpholine', 'fr_nitrile', 'fr_nitro', 'fr_nitro_arom', 'fr_nitro_arom_nonortho', 'fr_nitroso', 'fr_oxazole', 'fr_oxime', 'fr_para_hydroxylation', 'fr_phenol', 'fr_phenol_noOrthoHbond', 'fr_phos_acid', 'fr_phos_ester', 'fr_piperdine', 'fr_piperzine', 'fr_priamide', 'fr_prisulfonamd', 'fr_pyridine', 'fr_quatN', 'fr_sulfide', 'fr_sulfonamd', 'fr_sulfone', 'fr_term_acetylene', 'fr_tetrazole', 'fr_thiazole', 'fr_thiocyan', 'fr_thiophene', 'fr_unbrch_alkane', 'fr_urea']\n"
          ]
        }
      ],
      "source": [
        "all_descs =[x[0] for x in Descriptors._descList]\n",
        "print(len(all_descs)) # there are 200 molecular descriptors\n",
        "print(all_descs) #print their names"
      ]
    },
    {
      "cell_type": "code",
      "execution_count": null,
      "metadata": {
        "scrolled": false,
        "id": "QShqk9huC2S7",
        "outputId": "c584834d-992f-4244-ec77-d72e0fede954"
      },
      "outputs": [
        {
          "data": {
            "text/html": [
              "<div>\n",
              "<style scoped>\n",
              "    .dataframe tbody tr th:only-of-type {\n",
              "        vertical-align: middle;\n",
              "    }\n",
              "\n",
              "    .dataframe tbody tr th {\n",
              "        vertical-align: top;\n",
              "    }\n",
              "\n",
              "    .dataframe thead th {\n",
              "        text-align: right;\n",
              "    }\n",
              "</style>\n",
              "<table border=\"1\" class=\"dataframe\">\n",
              "  <thead>\n",
              "    <tr style=\"text-align: right;\">\n",
              "      <th></th>\n",
              "      <th>No.</th>\n",
              "      <th>Name</th>\n",
              "      <th>SMILES strings</th>\n",
              "      <th>T_calc (K)</th>\n",
              "      <th>T_publ (K)</th>\n",
              "      <th>T_pred M-235 (K)</th>\n",
              "      <th>T_pred M-20 (K)</th>\n",
              "      <th>Absolute Error M-235 (K)</th>\n",
              "      <th>Absolute Error M-20 (K)</th>\n",
              "      <th>Relative Error M-235 (%)</th>\n",
              "      <th>Relative Error M-20 (%)</th>\n",
              "    </tr>\n",
              "  </thead>\n",
              "  <tbody>\n",
              "    <tr>\n",
              "      <td>0</td>\n",
              "      <td>1</td>\n",
              "      <td>ethane</td>\n",
              "      <td>CC</td>\n",
              "      <td>NaN</td>\n",
              "      <td>184.6</td>\n",
              "      <td>184.6</td>\n",
              "      <td>184.9</td>\n",
              "      <td>-0.1</td>\n",
              "      <td>-0.3</td>\n",
              "      <td>0.0</td>\n",
              "      <td>-0.2</td>\n",
              "    </tr>\n",
              "    <tr>\n",
              "      <td>1</td>\n",
              "      <td>2</td>\n",
              "      <td>propane</td>\n",
              "      <td>CCC</td>\n",
              "      <td>NaN</td>\n",
              "      <td>231.1</td>\n",
              "      <td>230.7</td>\n",
              "      <td>230.9</td>\n",
              "      <td>0.3</td>\n",
              "      <td>0.1</td>\n",
              "      <td>0.1</td>\n",
              "      <td>0.1</td>\n",
              "    </tr>\n",
              "    <tr>\n",
              "      <td>2</td>\n",
              "      <td>3</td>\n",
              "      <td>n-butane</td>\n",
              "      <td>CCCC</td>\n",
              "      <td>NaN</td>\n",
              "      <td>272.7</td>\n",
              "      <td>270.4</td>\n",
              "      <td>270.4</td>\n",
              "      <td>2.2</td>\n",
              "      <td>2.2</td>\n",
              "      <td>0.8</td>\n",
              "      <td>0.8</td>\n",
              "    </tr>\n",
              "    <tr>\n",
              "      <td>3</td>\n",
              "      <td>4</td>\n",
              "      <td>n-pentane</td>\n",
              "      <td>CCCCC</td>\n",
              "      <td>NaN</td>\n",
              "      <td>309.2</td>\n",
              "      <td>307.1</td>\n",
              "      <td>306.7</td>\n",
              "      <td>2.1</td>\n",
              "      <td>2.5</td>\n",
              "      <td>0.7</td>\n",
              "      <td>0.8</td>\n",
              "    </tr>\n",
              "    <tr>\n",
              "      <td>4</td>\n",
              "      <td>5</td>\n",
              "      <td>n-hexane</td>\n",
              "      <td>CCCCCC</td>\n",
              "      <td>NaN</td>\n",
              "      <td>341.9</td>\n",
              "      <td>339.0</td>\n",
              "      <td>338.4</td>\n",
              "      <td>2.9</td>\n",
              "      <td>3.5</td>\n",
              "      <td>0.8</td>\n",
              "      <td>1.0</td>\n",
              "    </tr>\n",
              "    <tr>\n",
              "      <td>...</td>\n",
              "      <td>...</td>\n",
              "      <td>...</td>\n",
              "      <td>...</td>\n",
              "      <td>...</td>\n",
              "      <td>...</td>\n",
              "      <td>...</td>\n",
              "      <td>...</td>\n",
              "      <td>...</td>\n",
              "      <td>...</td>\n",
              "      <td>...</td>\n",
              "      <td>...</td>\n",
              "    </tr>\n",
              "    <tr>\n",
              "      <td>250</td>\n",
              "      <td>251</td>\n",
              "      <td>1,5-cyclooctadiene</td>\n",
              "      <td>C1=CCCC=CCC1</td>\n",
              "      <td>409.9</td>\n",
              "      <td>423.3</td>\n",
              "      <td>415.7</td>\n",
              "      <td>414.6</td>\n",
              "      <td>-5.8</td>\n",
              "      <td>-4.7</td>\n",
              "      <td>-1.4</td>\n",
              "      <td>1.1</td>\n",
              "    </tr>\n",
              "    <tr>\n",
              "      <td>251</td>\n",
              "      <td>252</td>\n",
              "      <td>2,5-dimethyl-1,5-hexadiene</td>\n",
              "      <td>CC(=C)CCC(C)=C</td>\n",
              "      <td>NaN</td>\n",
              "      <td>387.4</td>\n",
              "      <td>380.8</td>\n",
              "      <td>383.2</td>\n",
              "      <td>6.6</td>\n",
              "      <td>4.2</td>\n",
              "      <td>1.7</td>\n",
              "      <td>1.1</td>\n",
              "    </tr>\n",
              "    <tr>\n",
              "      <td>252</td>\n",
              "      <td>253</td>\n",
              "      <td>c-1-propenylbenzene</td>\n",
              "      <td>C=CCC1=CC=CC=C1</td>\n",
              "      <td>441.9</td>\n",
              "      <td>452</td>\n",
              "      <td>436.9</td>\n",
              "      <td>434.5</td>\n",
              "      <td>5.0</td>\n",
              "      <td>7.4</td>\n",
              "      <td>1.1</td>\n",
              "      <td>1.7</td>\n",
              "    </tr>\n",
              "    <tr>\n",
              "      <td>253</td>\n",
              "      <td>254</td>\n",
              "      <td>1-phenylnaphtalene</td>\n",
              "      <td>C1=CC=C(C=C1)C1=C2C=CC=CC2=CC=C1</td>\n",
              "      <td>621.0</td>\n",
              "      <td>607.1</td>\n",
              "      <td>643.6</td>\n",
              "      <td>634.0</td>\n",
              "      <td>-22.6</td>\n",
              "      <td>-13.0</td>\n",
              "      <td>-3.6</td>\n",
              "      <td>-2.1</td>\n",
              "    </tr>\n",
              "    <tr>\n",
              "      <td>254</td>\n",
              "      <td>255</td>\n",
              "      <td>indane</td>\n",
              "      <td>C1CCC2=CC=CC=C12</td>\n",
              "      <td>NaN</td>\n",
              "      <td>451.1</td>\n",
              "      <td>451.4</td>\n",
              "      <td>447.1</td>\n",
              "      <td>-0.3</td>\n",
              "      <td>4.0</td>\n",
              "      <td>-0.1</td>\n",
              "      <td>0.9</td>\n",
              "    </tr>\n",
              "  </tbody>\n",
              "</table>\n",
              "<p>255 rows × 11 columns</p>\n",
              "</div>"
            ],
            "text/plain": [
              "     No.                        Name                    SMILES strings  \\\n",
              "0      1                      ethane                                CC   \n",
              "1      2                     propane                               CCC   \n",
              "2      3                    n-butane                              CCCC   \n",
              "3      4                   n-pentane                             CCCCC   \n",
              "4      5                    n-hexane                            CCCCCC   \n",
              "..   ...                         ...                               ...   \n",
              "250  251          1,5-cyclooctadiene                      C1=CCCC=CCC1   \n",
              "251  252  2,5-dimethyl-1,5-hexadiene                    CC(=C)CCC(C)=C   \n",
              "252  253         c-1-propenylbenzene                   C=CCC1=CC=CC=C1   \n",
              "253  254          1-phenylnaphtalene  C1=CC=C(C=C1)C1=C2C=CC=CC2=CC=C1   \n",
              "254  255                      indane                  C1CCC2=CC=CC=C12   \n",
              "\n",
              "     T_calc (K) T_publ (K)  T_pred M-235 (K)  T_pred M-20 (K)  \\\n",
              "0           NaN      184.6             184.6            184.9   \n",
              "1           NaN      231.1             230.7            230.9   \n",
              "2           NaN      272.7             270.4            270.4   \n",
              "3           NaN      309.2             307.1            306.7   \n",
              "4           NaN      341.9             339.0            338.4   \n",
              "..          ...        ...               ...              ...   \n",
              "250       409.9      423.3             415.7            414.6   \n",
              "251         NaN      387.4             380.8            383.2   \n",
              "252       441.9        452             436.9            434.5   \n",
              "253       621.0      607.1             643.6            634.0   \n",
              "254         NaN      451.1             451.4            447.1   \n",
              "\n",
              "     Absolute Error M-235 (K)  Absolute Error M-20 (K)  \\\n",
              "0                        -0.1                     -0.3   \n",
              "1                         0.3                      0.1   \n",
              "2                         2.2                      2.2   \n",
              "3                         2.1                      2.5   \n",
              "4                         2.9                      3.5   \n",
              "..                        ...                      ...   \n",
              "250                      -5.8                     -4.7   \n",
              "251                       6.6                      4.2   \n",
              "252                       5.0                      7.4   \n",
              "253                     -22.6                    -13.0   \n",
              "254                      -0.3                      4.0   \n",
              "\n",
              "     Relative Error M-235 (%)  Relative Error M-20 (%)  \n",
              "0                         0.0                     -0.2  \n",
              "1                         0.1                      0.1  \n",
              "2                         0.8                      0.8  \n",
              "3                         0.7                      0.8  \n",
              "4                         0.8                      1.0  \n",
              "..                        ...                      ...  \n",
              "250                      -1.4                      1.1  \n",
              "251                       1.7                      1.1  \n",
              "252                       1.1                      1.7  \n",
              "253                      -3.6                     -2.1  \n",
              "254                      -0.1                      0.9  \n",
              "\n",
              "[255 rows x 11 columns]"
            ]
          },
          "execution_count": 8,
          "metadata": {},
          "output_type": "execute_result"
        }
      ],
      "source": [
        "#read data from file\n",
        "data = pd.read_csv('Compiled3.csv', sep=',',dtype={'Name': object, 'SMILES strings': str, 'T_publ (K)': object})\n",
        "data"
      ]
    },
    {
      "cell_type": "markdown",
      "metadata": {
        "id": "YyfPtxeNC2S8"
      },
      "source": [
        "## Select columns used for Machine Learning models and create a new dataframe"
      ]
    },
    {
      "cell_type": "code",
      "execution_count": null,
      "metadata": {
        "scrolled": false,
        "id": "ZuhxYSoxC2S8",
        "outputId": "1dfc03eb-87bd-4e5a-d17c-213d1e9e2735"
      },
      "outputs": [
        {
          "data": {
            "text/html": [
              "<div>\n",
              "<style scoped>\n",
              "    .dataframe tbody tr th:only-of-type {\n",
              "        vertical-align: middle;\n",
              "    }\n",
              "\n",
              "    .dataframe tbody tr th {\n",
              "        vertical-align: top;\n",
              "    }\n",
              "\n",
              "    .dataframe thead th {\n",
              "        text-align: right;\n",
              "    }\n",
              "</style>\n",
              "<table border=\"1\" class=\"dataframe\">\n",
              "  <thead>\n",
              "    <tr style=\"text-align: right;\">\n",
              "      <th></th>\n",
              "      <th>Name</th>\n",
              "      <th>SMILES strings</th>\n",
              "      <th>T_publ (K)</th>\n",
              "    </tr>\n",
              "  </thead>\n",
              "  <tbody>\n",
              "    <tr>\n",
              "      <td>0</td>\n",
              "      <td>ethane</td>\n",
              "      <td>CC</td>\n",
              "      <td>184.6</td>\n",
              "    </tr>\n",
              "    <tr>\n",
              "      <td>1</td>\n",
              "      <td>propane</td>\n",
              "      <td>CCC</td>\n",
              "      <td>231.1</td>\n",
              "    </tr>\n",
              "    <tr>\n",
              "      <td>2</td>\n",
              "      <td>n-butane</td>\n",
              "      <td>CCCC</td>\n",
              "      <td>272.7</td>\n",
              "    </tr>\n",
              "    <tr>\n",
              "      <td>3</td>\n",
              "      <td>n-pentane</td>\n",
              "      <td>CCCCC</td>\n",
              "      <td>309.2</td>\n",
              "    </tr>\n",
              "    <tr>\n",
              "      <td>4</td>\n",
              "      <td>n-hexane</td>\n",
              "      <td>CCCCCC</td>\n",
              "      <td>341.9</td>\n",
              "    </tr>\n",
              "    <tr>\n",
              "      <td>...</td>\n",
              "      <td>...</td>\n",
              "      <td>...</td>\n",
              "      <td>...</td>\n",
              "    </tr>\n",
              "    <tr>\n",
              "      <td>250</td>\n",
              "      <td>1,5-cyclooctadiene</td>\n",
              "      <td>C1=CCCC=CCC1</td>\n",
              "      <td>423.3</td>\n",
              "    </tr>\n",
              "    <tr>\n",
              "      <td>251</td>\n",
              "      <td>2,5-dimethyl-1,5-hexadiene</td>\n",
              "      <td>CC(=C)CCC(C)=C</td>\n",
              "      <td>387.4</td>\n",
              "    </tr>\n",
              "    <tr>\n",
              "      <td>252</td>\n",
              "      <td>c-1-propenylbenzene</td>\n",
              "      <td>C=CCC1=CC=CC=C1</td>\n",
              "      <td>452</td>\n",
              "    </tr>\n",
              "    <tr>\n",
              "      <td>253</td>\n",
              "      <td>1-phenylnaphtalene</td>\n",
              "      <td>C1=CC=C(C=C1)C1=C2C=CC=CC2=CC=C1</td>\n",
              "      <td>607.1</td>\n",
              "    </tr>\n",
              "    <tr>\n",
              "      <td>254</td>\n",
              "      <td>indane</td>\n",
              "      <td>C1CCC2=CC=CC=C12</td>\n",
              "      <td>451.1</td>\n",
              "    </tr>\n",
              "  </tbody>\n",
              "</table>\n",
              "<p>255 rows × 3 columns</p>\n",
              "</div>"
            ],
            "text/plain": [
              "                           Name                    SMILES strings T_publ (K)\n",
              "0                        ethane                                CC      184.6\n",
              "1                       propane                               CCC      231.1\n",
              "2                      n-butane                              CCCC      272.7\n",
              "3                     n-pentane                             CCCCC      309.2\n",
              "4                      n-hexane                            CCCCCC      341.9\n",
              "..                          ...                               ...        ...\n",
              "250          1,5-cyclooctadiene                      C1=CCCC=CCC1      423.3\n",
              "251  2,5-dimethyl-1,5-hexadiene                    CC(=C)CCC(C)=C      387.4\n",
              "252         c-1-propenylbenzene                   C=CCC1=CC=CC=C1        452\n",
              "253          1-phenylnaphtalene  C1=CC=C(C=C1)C1=C2C=CC=CC2=CC=C1      607.1\n",
              "254                      indane                  C1CCC2=CC=CC=C12      451.1\n",
              "\n",
              "[255 rows x 3 columns]"
            ]
          },
          "execution_count": 9,
          "metadata": {},
          "output_type": "execute_result"
        }
      ],
      "source": [
        "published = data.iloc[:,[1,2,4]] #all rows, certain columns\n",
        "published"
      ]
    },
    {
      "cell_type": "code",
      "execution_count": null,
      "metadata": {
        "scrolled": false,
        "id": "q8LJrmpxC2S8",
        "outputId": "427286a2-3b56-475d-9b03-e2b5d4ac19f1"
      },
      "outputs": [
        {
          "data": {
            "text/plain": [
              "array(['Name', 'SMILES strings', 'T_publ (K)'], dtype=object)"
            ]
          },
          "execution_count": 10,
          "metadata": {},
          "output_type": "execute_result"
        }
      ],
      "source": [
        "published.columns.values"
      ]
    },
    {
      "cell_type": "markdown",
      "metadata": {
        "id": "_PSejNGNC2S9"
      },
      "source": [
        "Convert 'T_publ (K)' objects to float"
      ]
    },
    {
      "cell_type": "code",
      "execution_count": null,
      "metadata": {
        "scrolled": true,
        "id": "z2jAdNp_C2S9",
        "outputId": "0ec390c7-89e5-43ee-abae-022b9e0faced"
      },
      "outputs": [
        {
          "data": {
            "text/html": [
              "<div>\n",
              "<style scoped>\n",
              "    .dataframe tbody tr th:only-of-type {\n",
              "        vertical-align: middle;\n",
              "    }\n",
              "\n",
              "    .dataframe tbody tr th {\n",
              "        vertical-align: top;\n",
              "    }\n",
              "\n",
              "    .dataframe thead th {\n",
              "        text-align: right;\n",
              "    }\n",
              "</style>\n",
              "<table border=\"1\" class=\"dataframe\">\n",
              "  <thead>\n",
              "    <tr style=\"text-align: right;\">\n",
              "      <th></th>\n",
              "      <th>Name</th>\n",
              "      <th>SMILES strings</th>\n",
              "      <th>T_publ (K)</th>\n",
              "    </tr>\n",
              "  </thead>\n",
              "  <tbody>\n",
              "    <tr>\n",
              "      <td>0</td>\n",
              "      <td>ethane</td>\n",
              "      <td>CC</td>\n",
              "      <td>184.6</td>\n",
              "    </tr>\n",
              "    <tr>\n",
              "      <td>1</td>\n",
              "      <td>propane</td>\n",
              "      <td>CCC</td>\n",
              "      <td>231.1</td>\n",
              "    </tr>\n",
              "    <tr>\n",
              "      <td>2</td>\n",
              "      <td>n-butane</td>\n",
              "      <td>CCCC</td>\n",
              "      <td>272.7</td>\n",
              "    </tr>\n",
              "    <tr>\n",
              "      <td>3</td>\n",
              "      <td>n-pentane</td>\n",
              "      <td>CCCCC</td>\n",
              "      <td>309.2</td>\n",
              "    </tr>\n",
              "    <tr>\n",
              "      <td>4</td>\n",
              "      <td>n-hexane</td>\n",
              "      <td>CCCCCC</td>\n",
              "      <td>341.9</td>\n",
              "    </tr>\n",
              "    <tr>\n",
              "      <td>...</td>\n",
              "      <td>...</td>\n",
              "      <td>...</td>\n",
              "      <td>...</td>\n",
              "    </tr>\n",
              "    <tr>\n",
              "      <td>250</td>\n",
              "      <td>1,5-cyclooctadiene</td>\n",
              "      <td>C1=CCCC=CCC1</td>\n",
              "      <td>423.3</td>\n",
              "    </tr>\n",
              "    <tr>\n",
              "      <td>251</td>\n",
              "      <td>2,5-dimethyl-1,5-hexadiene</td>\n",
              "      <td>CC(=C)CCC(C)=C</td>\n",
              "      <td>387.4</td>\n",
              "    </tr>\n",
              "    <tr>\n",
              "      <td>252</td>\n",
              "      <td>c-1-propenylbenzene</td>\n",
              "      <td>C=CCC1=CC=CC=C1</td>\n",
              "      <td>452</td>\n",
              "    </tr>\n",
              "    <tr>\n",
              "      <td>253</td>\n",
              "      <td>1-phenylnaphtalene</td>\n",
              "      <td>C1=CC=C(C=C1)C1=C2C=CC=CC2=CC=C1</td>\n",
              "      <td>607.1</td>\n",
              "    </tr>\n",
              "    <tr>\n",
              "      <td>254</td>\n",
              "      <td>indane</td>\n",
              "      <td>C1CCC2=CC=CC=C12</td>\n",
              "      <td>451.1</td>\n",
              "    </tr>\n",
              "  </tbody>\n",
              "</table>\n",
              "<p>255 rows × 3 columns</p>\n",
              "</div>"
            ],
            "text/plain": [
              "                           Name                    SMILES strings T_publ (K)\n",
              "0                        ethane                                CC      184.6\n",
              "1                       propane                               CCC      231.1\n",
              "2                      n-butane                              CCCC      272.7\n",
              "3                     n-pentane                             CCCCC      309.2\n",
              "4                      n-hexane                            CCCCCC      341.9\n",
              "..                          ...                               ...        ...\n",
              "250          1,5-cyclooctadiene                      C1=CCCC=CCC1      423.3\n",
              "251  2,5-dimethyl-1,5-hexadiene                    CC(=C)CCC(C)=C      387.4\n",
              "252         c-1-propenylbenzene                   C=CCC1=CC=CC=C1        452\n",
              "253          1-phenylnaphtalene  C1=CC=C(C=C1)C1=C2C=CC=CC2=CC=C1      607.1\n",
              "254                      indane                  C1CCC2=CC=CC=C12      451.1\n",
              "\n",
              "[255 rows x 3 columns]"
            ]
          },
          "execution_count": 11,
          "metadata": {},
          "output_type": "execute_result"
        }
      ],
      "source": [
        "#read data from file\n",
        "published = pd.read_csv('Compiled3.csv', sep=',',dtype={'Name': object, 'SMILES strings': object, 'T_publ (K)':float})\n",
        "published = data.iloc[:,[1,2,4]] #all rows, certain columns\n",
        "published\n"
      ]
    },
    {
      "cell_type": "markdown",
      "metadata": {
        "id": "_5A5g3PAC2S9"
      },
      "source": [
        "### Calculate the molecules descriptors and append them to the data object."
      ]
    },
    {
      "cell_type": "code",
      "execution_count": null,
      "metadata": {
        "id": "1x8kgVsyC2S-",
        "outputId": "e1f2bd7d-2884-4e90-8d8d-7ff4ae1cc726"
      },
      "outputs": [
        {
          "name": "stderr",
          "output_type": "stream",
          "text": [
            "/opt/conda/lib/python3.7/site-packages/ipykernel_launcher.py:3: SettingWithCopyWarning: \n",
            "A value is trying to be set on a copy of a slice from a DataFrame.\n",
            "Try using .loc[row_indexer,col_indexer] = value instead\n",
            "\n",
            "See the caveats in the documentation: http://pandas.pydata.org/pandas-docs/stable/user_guide/indexing.html#returning-a-view-versus-a-copy\n",
            "  This is separate from the ipykernel package so we can avoid doing imports until\n"
          ]
        },
        {
          "name": "stdout",
          "output_type": "stream",
          "text": [
            "['Name' 'SMILES strings' 'T_publ (K)' 'Mol' 'Descriptors']\n"
          ]
        },
        {
          "name": "stderr",
          "output_type": "stream",
          "text": [
            "/opt/conda/lib/python3.7/site-packages/ipykernel_launcher.py:4: SettingWithCopyWarning: \n",
            "A value is trying to be set on a copy of a slice from a DataFrame.\n",
            "Try using .loc[row_indexer,col_indexer] = value instead\n",
            "\n",
            "See the caveats in the documentation: http://pandas.pydata.org/pandas-docs/stable/user_guide/indexing.html#returning-a-view-versus-a-copy\n",
            "  after removing the cwd from sys.path.\n"
          ]
        },
        {
          "data": {
            "text/html": [
              "<div>\n",
              "<style scoped>\n",
              "    .dataframe tbody tr th:only-of-type {\n",
              "        vertical-align: middle;\n",
              "    }\n",
              "\n",
              "    .dataframe tbody tr th {\n",
              "        vertical-align: top;\n",
              "    }\n",
              "\n",
              "    .dataframe thead th {\n",
              "        text-align: right;\n",
              "    }\n",
              "</style>\n",
              "<table border=\"1\" class=\"dataframe\">\n",
              "  <thead>\n",
              "    <tr style=\"text-align: right;\">\n",
              "      <th></th>\n",
              "      <th>Name</th>\n",
              "      <th>SMILES strings</th>\n",
              "      <th>T_publ (K)</th>\n",
              "      <th>Mol</th>\n",
              "      <th>Descriptors</th>\n",
              "    </tr>\n",
              "  </thead>\n",
              "  <tbody>\n",
              "    <tr>\n",
              "      <td>0</td>\n",
              "      <td>ethane</td>\n",
              "      <td>CC</td>\n",
              "      <td>184.6</td>\n",
              "      <td>&lt;rdkit.Chem.rdchem.Mol object at 0x7fccb1103850&gt;</td>\n",
              "      <td>[2.0, 2.0, 2.0, 2.0, 0.3727855551576051, 30.07...</td>\n",
              "    </tr>\n",
              "    <tr>\n",
              "      <td>1</td>\n",
              "      <td>propane</td>\n",
              "      <td>CCC</td>\n",
              "      <td>231.1</td>\n",
              "      <td>&lt;rdkit.Chem.rdchem.Mol object at 0x7fccb1103bc0&gt;</td>\n",
              "      <td>[2.125, 1.25, 2.125, 1.25, 0.3854706587740357,...</td>\n",
              "    </tr>\n",
              "    <tr>\n",
              "      <td>2</td>\n",
              "      <td>n-butane</td>\n",
              "      <td>CCCC</td>\n",
              "      <td>272.7</td>\n",
              "      <td>&lt;rdkit.Chem.rdchem.Mol object at 0x7fccb11089e0&gt;</td>\n",
              "      <td>[2.1805555555555554, 1.3194444444444444, 2.180...</td>\n",
              "    </tr>\n",
              "    <tr>\n",
              "      <td>3</td>\n",
              "      <td>n-pentane</td>\n",
              "      <td>CCCCC</td>\n",
              "      <td>309.2</td>\n",
              "      <td>&lt;rdkit.Chem.rdchem.Mol object at 0x7fccb11084e0&gt;</td>\n",
              "      <td>[2.2118055555555554, 1.34375, 2.21180555555555...</td>\n",
              "    </tr>\n",
              "    <tr>\n",
              "      <td>4</td>\n",
              "      <td>n-hexane</td>\n",
              "      <td>CCCCCC</td>\n",
              "      <td>341.9</td>\n",
              "      <td>&lt;rdkit.Chem.rdchem.Mol object at 0x7fccb1108f30&gt;</td>\n",
              "      <td>[2.2318055555555554, 1.355, 2.2318055555555554...</td>\n",
              "    </tr>\n",
              "  </tbody>\n",
              "</table>\n",
              "</div>"
            ],
            "text/plain": [
              "        Name SMILES strings T_publ (K)  \\\n",
              "0     ethane             CC      184.6   \n",
              "1    propane            CCC      231.1   \n",
              "2   n-butane           CCCC      272.7   \n",
              "3  n-pentane          CCCCC      309.2   \n",
              "4   n-hexane         CCCCCC      341.9   \n",
              "\n",
              "                                                Mol  \\\n",
              "0  <rdkit.Chem.rdchem.Mol object at 0x7fccb1103850>   \n",
              "1  <rdkit.Chem.rdchem.Mol object at 0x7fccb1103bc0>   \n",
              "2  <rdkit.Chem.rdchem.Mol object at 0x7fccb11089e0>   \n",
              "3  <rdkit.Chem.rdchem.Mol object at 0x7fccb11084e0>   \n",
              "4  <rdkit.Chem.rdchem.Mol object at 0x7fccb1108f30>   \n",
              "\n",
              "                                         Descriptors  \n",
              "0  [2.0, 2.0, 2.0, 2.0, 0.3727855551576051, 30.07...  \n",
              "1  [2.125, 1.25, 2.125, 1.25, 0.3854706587740357,...  \n",
              "2  [2.1805555555555554, 1.3194444444444444, 2.180...  \n",
              "3  [2.2118055555555554, 1.34375, 2.21180555555555...  \n",
              "4  [2.2318055555555554, 1.355, 2.2318055555555554...  "
            ]
          },
          "execution_count": 12,
          "metadata": {},
          "output_type": "execute_result"
        }
      ],
      "source": [
        "# calculate the molecules descriptors and append them to the data object\n",
        "#data['SMILES strings'] = data['SMILES strings'].astype('str')\n",
        "published['Mol'] = published['SMILES strings'].apply(Chem.MolFromSmiles)\n",
        "published['Descriptors'] = published['Mol'].apply(get_fps)\n",
        "\n",
        "print(published.columns.values)\n",
        "\n",
        "published.head(5)"
      ]
    },
    {
      "cell_type": "code",
      "execution_count": null,
      "metadata": {
        "id": "mjrXJA5HC2S-",
        "outputId": "9e127498-7902-43ea-a874-7201554d5fc3"
      },
      "outputs": [
        {
          "data": {
            "text/plain": [
              "(200,)"
            ]
          },
          "execution_count": 13,
          "metadata": {},
          "output_type": "execute_result"
        }
      ],
      "source": [
        "published['Descriptors'].iloc[0].shape"
      ]
    },
    {
      "cell_type": "code",
      "execution_count": null,
      "metadata": {
        "id": "YHv5ngYwC2S-"
      },
      "outputs": [],
      "source": [
        "data['SMILES strings'] = str(data['SMILES strings'])"
      ]
    },
    {
      "cell_type": "markdown",
      "metadata": {
        "id": "2Y4aqUi6C2S_"
      },
      "source": [
        "# Data Fitting"
      ]
    },
    {
      "cell_type": "code",
      "execution_count": null,
      "metadata": {
        "id": "TZFl766GC2S_"
      },
      "outputs": [],
      "source": [
        "# convert into data in numpy array\n",
        "\n",
        "X = np.array(list(published['Descriptors']))\n",
        "y = published['T_publ (K)'].to_numpy().astype(float)\n",
        "\n",
        "# the training features are pre-processed to zero mean and unit variance\n",
        "st = StandardScaler()\n",
        "\n",
        "# X = st.fit_transform(X)\n",
        "\n",
        "X_train, X_test, y_train, y_test = train_test_split(X, y, test_size=0.25, random_state=42)\n",
        "\n",
        "st.fit(X_train)\n",
        "X_train = st.transform(X_train)\n",
        "X_test = st.transform(X_test)"
      ]
    },
    {
      "cell_type": "markdown",
      "metadata": {
        "id": "Zkpem1r7C2S_"
      },
      "source": [
        "# Machine Learning 1: Lasso"
      ]
    },
    {
      "cell_type": "code",
      "execution_count": null,
      "metadata": {
        "id": "wNTu2SuQC2S_"
      },
      "outputs": [],
      "source": [
        "from sklearn.linear_model import LassoCV"
      ]
    },
    {
      "cell_type": "code",
      "execution_count": null,
      "metadata": {
        "scrolled": true,
        "id": "LEK4LGtbC2TA",
        "outputId": "2b9368a0-b002-4355-8c4d-cad8435a6486"
      },
      "outputs": [
        {
          "name": "stderr",
          "output_type": "stream",
          "text": [
            "/opt/conda/lib/python3.7/site-packages/sklearn/linear_model/coordinate_descent.py:475: ConvergenceWarning: Objective did not converge. You might want to increase the number of iterations. Duality gap: 2149.507719781621, tolerance: 381.42086611518323\n",
            "  positive)\n"
          ]
        }
      ],
      "source": [
        "model = LassoCV(cv=5).fit(X_train,y_train)"
      ]
    },
    {
      "cell_type": "code",
      "execution_count": null,
      "metadata": {
        "id": "LQWtRO8jC2TA",
        "outputId": "3ed33cca-b93b-42d2-e707-27ead1e5b734"
      },
      "outputs": [
        {
          "name": "stdout",
          "output_type": "stream",
          "text": [
            "Lasso TEST RMS 25.760750149817827\n",
            "\n",
            "Lasso TEST r^2 score 0.9646821269872679\n"
          ]
        }
      ],
      "source": [
        "y_pred = model.predict(X_test)\n",
        "rms = (np.mean((y_test - y_pred) ** 2)) ** 0.5\n",
        "\n",
        "#s = np.std(y_test -y_pred)\n",
        "print (\"Lasso TEST RMS\", rms)\n",
        "print()\n",
        "print (\"Lasso TEST r^2 score\",r2_score(y_test,y_pred))"
      ]
    },
    {
      "cell_type": "code",
      "execution_count": null,
      "metadata": {
        "id": "MON3H88xC2TA",
        "outputId": "2d71d21f-bb61-42bc-e381-6a9e77f26405"
      },
      "outputs": [
        {
          "name": "stdout",
          "output_type": "stream",
          "text": [
            "Lasso TRAIN RMS 14.443183287581066\n",
            "\n",
            "Lasso TRAIN r^2 score 0.9895538859186608\n"
          ]
        }
      ],
      "source": [
        "y_pred_train = model.predict(X_train)\n",
        "rms = (np.mean((y_train - y_pred_train) ** 2)) ** 0.5\n",
        "\n",
        "print (\"Lasso TRAIN RMS\", rms)\n",
        "print()\n",
        "print (\"Lasso TRAIN r^2 score\",r2_score(y_train,y_pred_train))"
      ]
    },
    {
      "cell_type": "code",
      "execution_count": null,
      "metadata": {
        "id": "gyCOPiMyC2TB",
        "outputId": "a9715634-4dea-4df2-f6e6-f82e31c9dc36"
      },
      "outputs": [
        {
          "data": {
            "image/png": "[encoded data removed]",
            "text/plain": [
              "<Figure size 432x288 with 1 Axes>"
            ]
          },
          "metadata": {
            "needs_background": "light"
          },
          "output_type": "display_data"
        }
      ],
      "source": [
        "plt.scatter(y_train.astype(float), y_pred_train.astype(float), label = 'Train', c='blue')\n",
        "plt.title('Lasso Predictor')\n",
        "plt.xlabel('Measured Boiling Point')\n",
        "plt.ylabel('Predicted Boiling Point')\n",
        "plt.scatter(y_test.astype(float), y_pred.astype(float),c='Red', label='Test', alpha = 0.8)\n",
        "plt.legend(loc=4)\n",
        "plt.savefig('Lasso Predictor.png', dpi=300)\n",
        "plt.show()"
      ]
    },
    {
      "cell_type": "code",
      "execution_count": null,
      "metadata": {
        "id": "Q8nh_NVxC2TB",
        "outputId": "1b3e8654-ce21-4067-9cf5-09b7e9e22f07"
      },
      "outputs": [
        {
          "name": "stdout",
          "output_type": "stream",
          "text": [
            "(255, 200)\n"
          ]
        }
      ],
      "source": [
        "print(X.shape) #Number of features/descriptors = columns "
      ]
    },
    {
      "cell_type": "code",
      "execution_count": null,
      "metadata": {
        "scrolled": true,
        "id": "phcGCXEsC2TB",
        "outputId": "0964110e-a50b-454e-c6fc-92c548a03ea5"
      },
      "outputs": [
        {
          "name": "stdout",
          "output_type": "stream",
          "text": [
            "200\n",
            "['MaxEStateIndex', 'MinEStateIndex', 'MaxAbsEStateIndex', 'MinAbsEStateIndex', 'qed', 'MolWt', 'HeavyAtomMolWt', 'ExactMolWt', 'NumValenceElectrons', 'NumRadicalElectrons', 'MaxPartialCharge', 'MinPartialCharge', 'MaxAbsPartialCharge', 'MinAbsPartialCharge', 'FpDensityMorgan1', 'FpDensityMorgan2', 'FpDensityMorgan3', 'BalabanJ', 'BertzCT', 'Chi0', 'Chi0n', 'Chi0v', 'Chi1', 'Chi1n', 'Chi1v', 'Chi2n', 'Chi2v', 'Chi3n', 'Chi3v', 'Chi4n', 'Chi4v', 'HallKierAlpha', 'Ipc', 'Kappa1', 'Kappa2', 'Kappa3', 'LabuteASA', 'PEOE_VSA1', 'PEOE_VSA10', 'PEOE_VSA11', 'PEOE_VSA12', 'PEOE_VSA13', 'PEOE_VSA14', 'PEOE_VSA2', 'PEOE_VSA3', 'PEOE_VSA4', 'PEOE_VSA5', 'PEOE_VSA6', 'PEOE_VSA7', 'PEOE_VSA8', 'PEOE_VSA9', 'SMR_VSA1', 'SMR_VSA10', 'SMR_VSA2', 'SMR_VSA3', 'SMR_VSA4', 'SMR_VSA5', 'SMR_VSA6', 'SMR_VSA7', 'SMR_VSA8', 'SMR_VSA9', 'SlogP_VSA1', 'SlogP_VSA10', 'SlogP_VSA11', 'SlogP_VSA12', 'SlogP_VSA2', 'SlogP_VSA3', 'SlogP_VSA4', 'SlogP_VSA5', 'SlogP_VSA6', 'SlogP_VSA7', 'SlogP_VSA8', 'SlogP_VSA9', 'TPSA', 'EState_VSA1', 'EState_VSA10', 'EState_VSA11', 'EState_VSA2', 'EState_VSA3', 'EState_VSA4', 'EState_VSA5', 'EState_VSA6', 'EState_VSA7', 'EState_VSA8', 'EState_VSA9', 'VSA_EState1', 'VSA_EState10', 'VSA_EState2', 'VSA_EState3', 'VSA_EState4', 'VSA_EState5', 'VSA_EState6', 'VSA_EState7', 'VSA_EState8', 'VSA_EState9', 'FractionCSP3', 'HeavyAtomCount', 'NHOHCount', 'NOCount', 'NumAliphaticCarbocycles', 'NumAliphaticHeterocycles', 'NumAliphaticRings', 'NumAromaticCarbocycles', 'NumAromaticHeterocycles', 'NumAromaticRings', 'NumHAcceptors', 'NumHDonors', 'NumHeteroatoms', 'NumRotatableBonds', 'NumSaturatedCarbocycles', 'NumSaturatedHeterocycles', 'NumSaturatedRings', 'RingCount', 'MolLogP', 'MolMR', 'fr_Al_COO', 'fr_Al_OH', 'fr_Al_OH_noTert', 'fr_ArN', 'fr_Ar_COO', 'fr_Ar_N', 'fr_Ar_NH', 'fr_Ar_OH', 'fr_COO', 'fr_COO2', 'fr_C_O', 'fr_C_O_noCOO', 'fr_C_S', 'fr_HOCCN', 'fr_Imine', 'fr_NH0', 'fr_NH1', 'fr_NH2', 'fr_N_O', 'fr_Ndealkylation1', 'fr_Ndealkylation2', 'fr_Nhpyrrole', 'fr_SH', 'fr_aldehyde', 'fr_alkyl_carbamate', 'fr_alkyl_halide', 'fr_allylic_oxid', 'fr_amide', 'fr_amidine', 'fr_aniline', 'fr_aryl_methyl', 'fr_azide', 'fr_azo', 'fr_barbitur', 'fr_benzene', 'fr_benzodiazepine', 'fr_bicyclic', 'fr_diazo', 'fr_dihydropyridine', 'fr_epoxide', 'fr_ester', 'fr_ether', 'fr_furan', 'fr_guanido', 'fr_halogen', 'fr_hdrzine', 'fr_hdrzone', 'fr_imidazole', 'fr_imide', 'fr_isocyan', 'fr_isothiocyan', 'fr_ketone', 'fr_ketone_Topliss', 'fr_lactam', 'fr_lactone', 'fr_methoxy', 'fr_morpholine', 'fr_nitrile', 'fr_nitro', 'fr_nitro_arom', 'fr_nitro_arom_nonortho', 'fr_nitroso', 'fr_oxazole', 'fr_oxime', 'fr_para_hydroxylation', 'fr_phenol', 'fr_phenol_noOrthoHbond', 'fr_phos_acid', 'fr_phos_ester', 'fr_piperdine', 'fr_piperzine', 'fr_priamide', 'fr_prisulfonamd', 'fr_pyridine', 'fr_quatN', 'fr_sulfide', 'fr_sulfonamd', 'fr_sulfone', 'fr_term_acetylene', 'fr_tetrazole', 'fr_thiazole', 'fr_thiocyan', 'fr_thiophene', 'fr_unbrch_alkane', 'fr_urea']\n"
          ]
        }
      ],
      "source": [
        "#Calculate the number of molecular descriptors and list down all of them.\n",
        "all_descs =[x[0] for x in Descriptors._descList]\n",
        "print(len(all_descs)) # there are 200 molecular descriptors\n",
        "print(all_descs) #print their names"
      ]
    },
    {
      "cell_type": "code",
      "execution_count": null,
      "metadata": {
        "id": "DJT2XFEWC2TC"
      },
      "outputs": [],
      "source": [
        "features_used = (model.coef_ != 0) * (np.arange(len(model.coef_)))\n",
        "features_used = list(set(features_used))\n",
        "features_used = features_used[1:]\n",
        "features_used.sort()"
      ]
    },
    {
      "cell_type": "code",
      "execution_count": null,
      "metadata": {
        "id": "hrYxv1cOC2TC",
        "outputId": "1f2b1cb7-1efd-4d06-f9b4-4ca5e29c90dd"
      },
      "outputs": [
        {
          "name": "stdout",
          "output_type": "stream",
          "text": [
            "[1, 3, 4, 5, 6, 10, 11, 13, 14, 16, 17, 18, 20, 22, 27, 28, 29, 30, 32, 35, 46, 48, 49, 66, 77, 78, 81, 82, 88, 89, 91, 93, 95, 99, 102, 104, 109, 111, 145, 149, 151, 198]\n"
          ]
        }
      ],
      "source": [
        "print(features_used)"
      ]
    },
    {
      "cell_type": "code",
      "execution_count": null,
      "metadata": {
        "scrolled": true,
        "id": "-3C88B2wC2TC",
        "outputId": "12b5abe4-5d2f-462e-b915-c1809077d9ae"
      },
      "outputs": [
        {
          "name": "stdout",
          "output_type": "stream",
          "text": [
            "[ 1.05319949e+01 -4.74534327e+00  0.00000000e+00 -5.31177196e-13\n",
            "  2.34349277e+00  6.56018692e+01  3.68850996e+00  0.00000000e+00\n",
            "  0.00000000e+00  0.00000000e+00  2.61807270e+00 -3.70889426e+00\n",
            "  0.00000000e+00 -6.71935993e+00 -4.49366758e+01 -0.00000000e+00\n",
            "  2.57037613e+01  4.79073582e+00 -2.65042980e+01  0.00000000e+00\n",
            "  2.14634215e+00  0.00000000e+00  9.19231746e+00  0.00000000e+00\n",
            "  0.00000000e+00  0.00000000e+00  0.00000000e+00  4.09907297e+01\n",
            "  1.06934822e-13  3.26651425e+01  1.59137392e-12 -0.00000000e+00\n",
            " -8.31287077e+00  0.00000000e+00  0.00000000e+00  4.77512355e-02\n",
            "  0.00000000e+00  0.00000000e+00  0.00000000e+00  0.00000000e+00\n",
            "  0.00000000e+00  0.00000000e+00  0.00000000e+00  0.00000000e+00\n",
            "  0.00000000e+00  0.00000000e+00 -2.83375699e+00  0.00000000e+00\n",
            "  1.08744777e+00 -9.69803766e-01  0.00000000e+00  0.00000000e+00\n",
            "  0.00000000e+00  0.00000000e+00  0.00000000e+00 -0.00000000e+00\n",
            "  0.00000000e+00  0.00000000e+00  0.00000000e+00  0.00000000e+00\n",
            "  0.00000000e+00  0.00000000e+00  0.00000000e+00  0.00000000e+00\n",
            "  0.00000000e+00  0.00000000e+00 -2.18625889e+00  0.00000000e+00\n",
            "  0.00000000e+00  0.00000000e+00  0.00000000e+00  0.00000000e+00\n",
            "  0.00000000e+00  0.00000000e+00  0.00000000e+00  0.00000000e+00\n",
            "  0.00000000e+00 -7.61642670e+00 -1.95231068e+00 -0.00000000e+00\n",
            "  0.00000000e+00  3.26306723e+00 -2.06221374e-01  0.00000000e+00\n",
            "  0.00000000e+00  0.00000000e+00  0.00000000e+00  0.00000000e+00\n",
            "  1.31300417e+01  1.26980259e+01  0.00000000e+00  3.36154555e+00\n",
            "  0.00000000e+00 -1.60289259e+01  0.00000000e+00  3.21934001e+00\n",
            "  0.00000000e+00  0.00000000e+00  0.00000000e+00 -1.96758938e+01\n",
            "  0.00000000e+00 -0.00000000e+00  5.71320526e+00  0.00000000e+00\n",
            "  3.90612499e-16  0.00000000e+00  0.00000000e+00  0.00000000e+00\n",
            " -0.00000000e+00  5.91819780e+00  0.00000000e+00  1.32575742e-12\n",
            "  0.00000000e+00  0.00000000e+00  0.00000000e+00  0.00000000e+00\n",
            "  0.00000000e+00  0.00000000e+00  0.00000000e+00  0.00000000e+00\n",
            "  0.00000000e+00  0.00000000e+00  0.00000000e+00  0.00000000e+00\n",
            "  0.00000000e+00  0.00000000e+00  0.00000000e+00  0.00000000e+00\n",
            "  0.00000000e+00  0.00000000e+00  0.00000000e+00  0.00000000e+00\n",
            "  0.00000000e+00  0.00000000e+00  0.00000000e+00  0.00000000e+00\n",
            "  0.00000000e+00  0.00000000e+00  0.00000000e+00  0.00000000e+00\n",
            "  0.00000000e+00  0.00000000e+00  0.00000000e+00  0.00000000e+00\n",
            "  0.00000000e+00  1.60004286e+00  0.00000000e+00  0.00000000e+00\n",
            "  0.00000000e+00  2.53623921e+00  0.00000000e+00  3.30293529e+00\n",
            "  0.00000000e+00  0.00000000e+00  0.00000000e+00  0.00000000e+00\n",
            "  0.00000000e+00  0.00000000e+00  0.00000000e+00  0.00000000e+00\n",
            "  0.00000000e+00  0.00000000e+00  0.00000000e+00  0.00000000e+00\n",
            "  0.00000000e+00  0.00000000e+00  0.00000000e+00  0.00000000e+00\n",
            "  0.00000000e+00  0.00000000e+00  0.00000000e+00  0.00000000e+00\n",
            "  0.00000000e+00  0.00000000e+00  0.00000000e+00  0.00000000e+00\n",
            "  0.00000000e+00  0.00000000e+00  0.00000000e+00  0.00000000e+00\n",
            "  0.00000000e+00  0.00000000e+00  0.00000000e+00  0.00000000e+00\n",
            "  0.00000000e+00  0.00000000e+00  0.00000000e+00  0.00000000e+00\n",
            "  0.00000000e+00  0.00000000e+00  0.00000000e+00  0.00000000e+00\n",
            "  0.00000000e+00  0.00000000e+00  0.00000000e+00  0.00000000e+00\n",
            "  0.00000000e+00  0.00000000e+00 -2.03152555e+01  0.00000000e+00]\n"
          ]
        }
      ],
      "source": [
        "print(model.coef_)"
      ]
    },
    {
      "cell_type": "code",
      "execution_count": null,
      "metadata": {
        "scrolled": true,
        "id": "mpGQifMxC2TD",
        "outputId": "245245f0-d1f3-4e5f-9ea5-7dda55e2a83c"
      },
      "outputs": [
        {
          "data": {
            "text/plain": [
              "[1,\n",
              " 3,\n",
              " 4,\n",
              " 5,\n",
              " 6,\n",
              " 10,\n",
              " 11,\n",
              " 13,\n",
              " 14,\n",
              " 16,\n",
              " 17,\n",
              " 18,\n",
              " 20,\n",
              " 22,\n",
              " 27,\n",
              " 28,\n",
              " 29,\n",
              " 30,\n",
              " 32,\n",
              " 35,\n",
              " 46,\n",
              " 48,\n",
              " 49,\n",
              " 66,\n",
              " 77,\n",
              " 78,\n",
              " 81,\n",
              " 82,\n",
              " 88,\n",
              " 89,\n",
              " 91,\n",
              " 93,\n",
              " 95,\n",
              " 99,\n",
              " 102,\n",
              " 104,\n",
              " 109,\n",
              " 111,\n",
              " 145,\n",
              " 149,\n",
              " 151,\n",
              " 198]"
            ]
          },
          "execution_count": 28,
          "metadata": {},
          "output_type": "execute_result"
        }
      ],
      "source": [
        "features_used"
      ]
    },
    {
      "cell_type": "code",
      "execution_count": null,
      "metadata": {
        "id": "0GRPH_DmC2TD"
      },
      "outputs": [],
      "source": [
        "test = np.array([[1,2,3],\n",
        "                 [4,5,6],\n",
        "                 [7,8,9]])"
      ]
    },
    {
      "cell_type": "code",
      "execution_count": null,
      "metadata": {
        "id": "6jy8bK2ZC2TD",
        "outputId": "658e78eb-47ba-4684-ce83-5e4de2969eca"
      },
      "outputs": [
        {
          "data": {
            "text/plain": [
              "array([[1, 3],\n",
              "       [4, 6],\n",
              "       [7, 9]])"
            ]
          },
          "execution_count": 30,
          "metadata": {},
          "output_type": "execute_result"
        }
      ],
      "source": [
        "test[:,[0,2]]"
      ]
    },
    {
      "cell_type": "code",
      "execution_count": null,
      "metadata": {
        "id": "i4fWMBXtC2TE"
      },
      "outputs": [],
      "source": [
        "X_trimmed = X[:, features_used]"
      ]
    },
    {
      "cell_type": "markdown",
      "metadata": {
        "id": "luwEpwHHC2TE"
      },
      "source": [
        "# Machine Learning Model 2: Random Forest"
      ]
    },
    {
      "cell_type": "code",
      "execution_count": null,
      "metadata": {
        "id": "tJVSAw7_C2TE",
        "outputId": "df6d314f-8984-4051-9645-e7fbfe9fd3b8"
      },
      "outputs": [
        {
          "name": "stdout",
          "output_type": "stream",
          "text": [
            "Random Forest TEST RMS 8.723939317724062\n",
            "\n",
            "Random Forest TEST r^2 score 0.9959495544175134\n"
          ]
        }
      ],
      "source": [
        "# Use random forest model to train the data\n",
        "rf = RandomForestRegressor(n_estimators=100, oob_score=True, max_features='auto')\n",
        "rf.fit(X_train, y_train)\n",
        " \n",
        "y_pred = rf.predict(X_test)\n",
        "rms = (np.mean((y_test - y_pred)**2))**0.5\n",
        "print (\"Random Forest TEST RMS\", rms)\n",
        "print()\n",
        "print (\"Random Forest TEST r^2 score\",r2_score(y_test,y_pred))"
      ]
    },
    {
      "cell_type": "code",
      "execution_count": null,
      "metadata": {
        "id": "doNOD3z2C2TE",
        "outputId": "b39972a4-4c7e-4887-eb73-13635abb4f2a"
      },
      "outputs": [
        {
          "name": "stdout",
          "output_type": "stream",
          "text": [
            "Random Forest TRAIN RMS 6.151682208893975\n",
            "\n",
            "Random Forest TRAIN r^2 score 0.9895538859186608\n"
          ]
        }
      ],
      "source": [
        "y_pred = rf.predict(X_train)\n",
        "rms = (np.mean((y_train - y_pred)**2))**0.5\n",
        "print (\"Random Forest TRAIN RMS\", rms)\n",
        "print()\n",
        "print (\"Random Forest TRAIN r^2 score\",r2_score(y_train,y_pred_train))"
      ]
    },
    {
      "cell_type": "code",
      "execution_count": null,
      "metadata": {
        "id": "_rohquL0C2TF",
        "outputId": "d2ae1839-43cf-4d58-d963-67aa4b00dc3c"
      },
      "outputs": [
        {
          "data": {
            "image/png": "[encoded data removed]",
            "text/plain": [
              "<Figure size 432x288 with 1 Axes>"
            ]
          },
          "metadata": {
            "needs_background": "light"
          },
          "output_type": "display_data"
        }
      ],
      "source": [
        "plt.scatter(y_train,rf.predict(X_train), label = 'Train', c='blue')\n",
        "plt.title('Random Forest Predictor')\n",
        "plt.xlabel('Measured Boiling Point')\n",
        "plt.ylabel('Predicted Boiling Point')\n",
        "plt.scatter(y_test,rf.predict(X_test),c='lightgreen', label='Test', alpha = 0.8)\n",
        "plt.legend(loc=4)\n",
        "plt.savefig('RF Predictor.png', dpi=300)\n",
        "plt.show()"
      ]
    },
    {
      "cell_type": "markdown",
      "metadata": {
        "id": "hYzLlN5FC2TF"
      },
      "source": [
        "# Machine Learning 3: Linear Regression"
      ]
    },
    {
      "cell_type": "code",
      "execution_count": null,
      "metadata": {
        "scrolled": true,
        "id": "dPAatOVnC2TF",
        "outputId": "3624647c-b051-4e43-e2e8-99f24e23a190"
      },
      "outputs": [
        {
          "name": "stdout",
          "output_type": "stream",
          "text": [
            "LR TEST RMS 34.5596334185518\n",
            "\n",
            "LR TEST r^2 score 0.9364353318384361\n"
          ]
        }
      ],
      "source": [
        "#IMPORTS\n",
        "from sklearn.linear_model import LinearRegression\n",
        "from sklearn.metrics import mean_squared_error, r2_score\n",
        "\n",
        "\n",
        "LR = LinearRegression()\n",
        "LR.fit(X_train, y_train)\n",
        " \n",
        "y_pred = LR.predict(X_test)\n",
        "rms = (np.mean((y_test - y_pred)**2))**0.5\n",
        "print (\"LR TEST RMS\", rms)\n",
        "print()\n",
        "print (\"LR TEST r^2 score\",r2_score(y_test,y_pred))"
      ]
    },
    {
      "cell_type": "code",
      "execution_count": null,
      "metadata": {
        "scrolled": true,
        "id": "U-ndF0MZC2TF",
        "outputId": "be57f648-3642-4c03-eb76-f027653d0c4a"
      },
      "outputs": [
        {
          "data": {
            "text/plain": [
              "array([430.39684858, 397.94690359, 525.53712526, 669.74696121,\n",
              "       284.47420362, 425.15688105, 621.69910184, 696.81411597,\n",
              "       454.31524233, 783.88763202, 320.12272595, 629.53166642,\n",
              "       471.73976749, 447.27698104, 507.56072737, 475.07202332,\n",
              "       580.55658653, 553.39952967, 523.5967491 , 676.98263346,\n",
              "       515.10413079, 610.86224355, 381.22142545, 476.60150477,\n",
              "       873.88709655, 315.60865243, 470.35587921, 489.63372387,\n",
              "       470.732119  , 663.24932167, 390.77135828, 539.75480224,\n",
              "       381.23980392, 713.62724472, 457.26700934, 689.72131423,\n",
              "       243.0112648 , 597.03595694, 426.26289289, 271.55852115,\n",
              "       538.27154019, 412.77400196, 635.78199143, 327.26752628,\n",
              "       349.84695785, 383.67851632, 568.43591807, 372.10550231,\n",
              "       681.69170277, 608.94807511, 412.77400196, 319.33202649,\n",
              "       399.36253174, 862.83524759, 369.86147187, 434.82509524,\n",
              "       631.83331023, 345.09136008, 297.77457331, 356.06492975,\n",
              "       595.63830773, 416.35587013, 433.16045937, 398.76960431])"
            ]
          },
          "execution_count": 36,
          "metadata": {},
          "output_type": "execute_result"
        }
      ],
      "source": [
        "y_pred"
      ]
    },
    {
      "cell_type": "code",
      "execution_count": null,
      "metadata": {
        "id": "icgMhcEdC2TG",
        "outputId": "498da9eb-39e2-4b0b-8de2-d8b60a3fac3e"
      },
      "outputs": [
        {
          "data": {
            "text/plain": [
              "array([411.5, 398.8, 526.2, 673.2, 307.2, 409.3, 627. , 693.1, 469. ,\n",
              "       758.8, 353.5, 442.3, 456.9, 435.2, 429.3, 419.3, 586.4, 575.3,\n",
              "       524.3, 685.4, 491.1, 629.7, 337.8, 476. , 812.7, 327. , 452. ,\n",
              "       543.1, 489.4, 661.9, 383.8, 541.5, 376.6, 710.9, 450.3, 695.3,\n",
              "       266.9, 616.9, 428.9, 240.4, 537.5, 397.5, 649. , 345.9, 362.9,\n",
              "       399.7, 589.9, 397.2, 683.2, 614.4, 392.5, 333.4, 374.1, 769. ,\n",
              "       382.3, 442.5, 640.4, 322.4, 304.3, 372.4, 601.7, 402.9, 393.1,\n",
              "       378.1])"
            ]
          },
          "execution_count": 37,
          "metadata": {},
          "output_type": "execute_result"
        }
      ],
      "source": [
        "y_test"
      ]
    },
    {
      "cell_type": "code",
      "execution_count": null,
      "metadata": {
        "scrolled": true,
        "id": "E-0EZnN5C2TG",
        "outputId": "3a2c23d7-cccc-4354-a815-fee021c17a70"
      },
      "outputs": [
        {
          "name": "stdout",
          "output_type": "stream",
          "text": [
            "LR TRAIN RMS 11.734757932303548\n",
            "\n",
            "LR TRAIN r^2 score 0.9931043185654028\n"
          ]
        }
      ],
      "source": [
        "y_pred_train = LR.predict(X_train)\n",
        "rms = (np.mean((y_train - y_pred_train)**2))**0.5\n",
        "print (\"LR TRAIN RMS\", rms)\n",
        "print()\n",
        "print (\"LR TRAIN r^2 score\",r2_score(y_train,y_pred_train))"
      ]
    },
    {
      "cell_type": "code",
      "execution_count": null,
      "metadata": {
        "scrolled": false,
        "id": "5HQtT8c0C2TG",
        "outputId": "de2b1706-6aa9-45d6-a610-eed38db85d64"
      },
      "outputs": [
        {
          "data": {
            "image/png": "[encoded data removed]",
            "text/plain": [
              "<Figure size 432x288 with 1 Axes>"
            ]
          },
          "metadata": {
            "needs_background": "light"
          },
          "output_type": "display_data"
        }
      ],
      "source": [
        "plt.scatter(y_train,y_pred_train, label = 'Train', c='blue')\n",
        "plt.title('Linear Regression Predictor')\n",
        "plt.xlabel('Measured Boiling Point')\n",
        "plt.ylabel('Predicted Boiling Point')\n",
        "plt.scatter(y_test,y_pred,c='lightgreen', label='Test', alpha = 0.8)\n",
        "plt.legend(loc=4)\n",
        "plt.savefig('LR Predictor.png', dpi=300)\n",
        "plt.show()"
      ]
    },
    {
      "cell_type": "markdown",
      "metadata": {
        "id": "Z1ss1MR2C2TG"
      },
      "source": [
        "Overfitting due to the linear regression formula y= B0X0 + B1X1 + ...\n",
        "2 y_pred (test) values have negative predicted boiling points"
      ]
    },
    {
      "cell_type": "code",
      "execution_count": null,
      "metadata": {
        "id": "J7sSzKY2C2TH"
      },
      "outputs": [],
      "source": [
        "# To check the data fitting of LR model, 2 negative values are removed."
      ]
    },
    {
      "cell_type": "code",
      "execution_count": null,
      "metadata": {
        "id": "E7YRqNOoC2TH",
        "outputId": "e44b0823-92cf-4eaf-ca58-09afb2d6327d"
      },
      "outputs": [
        {
          "data": {
            "text/plain": [
              "array([], dtype=int64)"
            ]
          },
          "execution_count": 41,
          "metadata": {},
          "output_type": "execute_result"
        }
      ],
      "source": [
        "np.where(y_pred < 0)[0]"
      ]
    },
    {
      "cell_type": "code",
      "execution_count": null,
      "metadata": {
        "id": "dCMbMsiIC2TH"
      },
      "outputs": [],
      "source": [
        "y_newpred = np.delete(y_pred, [11,39])"
      ]
    },
    {
      "cell_type": "code",
      "execution_count": null,
      "metadata": {
        "scrolled": false,
        "id": "m-iIU26cC2TH",
        "outputId": "b5310d0d-e8fa-45a7-c4ff-691d4f30133c"
      },
      "outputs": [
        {
          "data": {
            "text/plain": [
              "array([430.39684858, 397.94690359, 525.53712526, 669.74696121,\n",
              "       284.47420362, 425.15688105, 621.69910184, 696.81411597,\n",
              "       454.31524233, 783.88763202, 320.12272595, 471.73976749,\n",
              "       447.27698104, 507.56072737, 475.07202332, 580.55658653,\n",
              "       553.39952967, 523.5967491 , 676.98263346, 515.10413079,\n",
              "       610.86224355, 381.22142545, 476.60150477, 873.88709655,\n",
              "       315.60865243, 470.35587921, 489.63372387, 470.732119  ,\n",
              "       663.24932167, 390.77135828, 539.75480224, 381.23980392,\n",
              "       713.62724472, 457.26700934, 689.72131423, 243.0112648 ,\n",
              "       597.03595694, 426.26289289, 538.27154019, 412.77400196,\n",
              "       635.78199143, 327.26752628, 349.84695785, 383.67851632,\n",
              "       568.43591807, 372.10550231, 681.69170277, 608.94807511,\n",
              "       412.77400196, 319.33202649, 399.36253174, 862.83524759,\n",
              "       369.86147187, 434.82509524, 631.83331023, 345.09136008,\n",
              "       297.77457331, 356.06492975, 595.63830773, 416.35587013,\n",
              "       433.16045937, 398.76960431])"
            ]
          },
          "execution_count": 43,
          "metadata": {},
          "output_type": "execute_result"
        }
      ],
      "source": [
        "y_newpred"
      ]
    },
    {
      "cell_type": "code",
      "execution_count": null,
      "metadata": {
        "id": "PEYdhR9rC2TI"
      },
      "outputs": [],
      "source": [
        "y_newtest = np.delete(y_test, [11,39])"
      ]
    },
    {
      "cell_type": "code",
      "execution_count": null,
      "metadata": {
        "id": "Lw1XZmlfC2TI",
        "outputId": "af907ad1-09d3-4509-b0e4-655af9564bc0"
      },
      "outputs": [
        {
          "data": {
            "text/plain": [
              "array([411.5, 398.8, 526.2, 673.2, 307.2, 409.3, 627. , 693.1, 469. ,\n",
              "       758.8, 353.5, 456.9, 435.2, 429.3, 419.3, 586.4, 575.3, 524.3,\n",
              "       685.4, 491.1, 629.7, 337.8, 476. , 812.7, 327. , 452. , 543.1,\n",
              "       489.4, 661.9, 383.8, 541.5, 376.6, 710.9, 450.3, 695.3, 266.9,\n",
              "       616.9, 428.9, 537.5, 397.5, 649. , 345.9, 362.9, 399.7, 589.9,\n",
              "       397.2, 683.2, 614.4, 392.5, 333.4, 374.1, 769. , 382.3, 442.5,\n",
              "       640.4, 322.4, 304.3, 372.4, 601.7, 402.9, 393.1, 378.1])"
            ]
          },
          "execution_count": 45,
          "metadata": {},
          "output_type": "execute_result"
        }
      ],
      "source": [
        "y_newtest"
      ]
    },
    {
      "cell_type": "code",
      "execution_count": null,
      "metadata": {
        "scrolled": false,
        "id": "c9OzNn0ZC2TI",
        "outputId": "82303426-696d-4df1-91b8-bca6b2a0805c"
      },
      "outputs": [
        {
          "name": "stdout",
          "output_type": "stream",
          "text": [
            "LR TEST RMS 25.530822112311476\n",
            "\n",
            "LR TEST r^2 score 0.9644896738644626\n"
          ]
        }
      ],
      "source": [
        "rms = (np.mean((y_newtest - y_newpred)**2))**0.5\n",
        "print (\"LR TEST RMS\", rms)\n",
        "print()\n",
        "print (\"LR TEST r^2 score\",r2_score(y_newtest,y_newpred))"
      ]
    },
    {
      "cell_type": "code",
      "execution_count": null,
      "metadata": {
        "scrolled": false,
        "id": "N_ecU24bC2TI",
        "outputId": "642afe8c-f7a5-42a0-b564-4ea00a2898db"
      },
      "outputs": [
        {
          "data": {
            "image/png": "[encoded data removed]",
            "text/plain": [
              "<Figure size 432x288 with 1 Axes>"
            ]
          },
          "metadata": {
            "needs_background": "light"
          },
          "output_type": "display_data"
        }
      ],
      "source": [
        "plt.scatter(y_train,y_pred_train, label = 'Train', c='blue')\n",
        "plt.title('Linear Regression Predictor')\n",
        "plt.xlabel('Measured Boiling Point')\n",
        "plt.ylabel('Predicted Boiling Point')\n",
        "plt.scatter(y_newtest,y_newpred,c='lightgreen', label='Test', alpha = 0.8)\n",
        "plt.legend(loc=4)\n",
        "plt.savefig('LR Predictor.png', dpi=300)\n",
        "plt.show()"
      ]
    },
    {
      "cell_type": "markdown",
      "metadata": {
        "id": "I4aF-AJRC2TJ"
      },
      "source": [
        "# Machine Learning 4: K Nearest Neighbour#"
      ]
    },
    {
      "cell_type": "code",
      "execution_count": null,
      "metadata": {
        "id": "c4rI3MYKC2TJ",
        "outputId": "96900a57-2da2-4937-aba5-485f35b36232"
      },
      "outputs": [
        {
          "name": "stdout",
          "output_type": "stream",
          "text": [
            "KR TEST RMS 32.09274489662734\n",
            "\n",
            "KRTTEST r^2 score 0.9451860300153182\n"
          ]
        }
      ],
      "source": [
        "KR = KNeighborsRegressor()\n",
        "KR.fit(X_train, y_train)\n",
        " \n",
        "y_pred = KR.predict(X_test)\n",
        "rms = (np.mean((y_test - y_pred)**2))**0.5\n",
        "print (\"KR TEST RMS\", rms)\n",
        "print()\n",
        "print (\"KRTTEST r^2 score\",r2_score(y_test,y_pred))"
      ]
    },
    {
      "cell_type": "code",
      "execution_count": null,
      "metadata": {
        "scrolled": true,
        "id": "AeznA0YJC2TJ",
        "outputId": "6d88683e-c757-4529-c644-c8dc4776af37"
      },
      "outputs": [
        {
          "name": "stdout",
          "output_type": "stream",
          "text": [
            "KR TRAIN RMS 28.9201542434678\n",
            "\n",
            "KR TRAIN r^2 score 0.9581177380180982\n"
          ]
        }
      ],
      "source": [
        "y_pred_train = KR.predict(X_train)\n",
        "rms = (np.mean((y_train - y_pred_train)**2))**0.5\n",
        "print (\"KR TRAIN RMS\", rms)\n",
        "print()\n",
        "print (\"KR TRAIN r^2 score\",r2_score(y_train,y_pred_train))"
      ]
    },
    {
      "cell_type": "code",
      "execution_count": null,
      "metadata": {
        "scrolled": true,
        "id": "jqCWyroEC2TJ",
        "outputId": "b608ff71-548e-4403-e883-bc99ce83b25e"
      },
      "outputs": [
        {
          "data": {
            "image/png": "[encoded data removed]",
            "text/plain": [
              "<Figure size 432x288 with 1 Axes>"
            ]
          },
          "metadata": {
            "needs_background": "light"
          },
          "output_type": "display_data"
        }
      ],
      "source": [
        "plt.scatter(y_train.astype(float), KR.predict(X_train).astype(float), label = 'Train', c='blue')\n",
        "plt.title('kNN Predictor')\n",
        "plt.xlabel('Measured Boiling Point')\n",
        "plt.ylabel('Predicted Boiling point-')\n",
        "plt.scatter(y_test,KR.predict(X_test).astype(float),c='lightgreen', label='Test', alpha = 0.8)\n",
        "plt.legend(loc=4)\n",
        "plt.savefig('kNN Predictor.png', dpi=300)\n",
        "plt.show()"
      ]
    },
    {
      "cell_type": "markdown",
      "metadata": {
        "id": "P52JqLQIC2TK"
      },
      "source": [
        "# Machine Learning 5: Support Vector Machine#"
      ]
    },
    {
      "cell_type": "code",
      "execution_count": null,
      "metadata": {
        "id": "6PWCOEbuC2TK",
        "outputId": "8582329c-de74-4245-9a48-da54189409fb"
      },
      "outputs": [
        {
          "name": "stdout",
          "output_type": "stream",
          "text": [
            "SVR TEST RMS 28.98361035776511\n",
            "\n",
            "SVR TEST r^2 score 0.9552922828154657\n"
          ]
        }
      ],
      "source": [
        "#IMPORTS\n",
        "from sklearn.svm import SVR\n",
        "\n",
        "svr2 = SVR(kernel = 'linear', gamma='scale', epsilon=10)\n",
        "\n",
        "svr2.fit(X_train, y_train)\n",
        "y_pred = svr2.predict(X_test)\n",
        "rms = (np.mean((y_test - y_pred)**2))**0.5\n",
        "print (\"SVR TEST RMS\", rms)\n",
        "print()\n",
        "print (\"SVR TEST r^2 score\",r2_score(y_test,y_pred))"
      ]
    },
    {
      "cell_type": "code",
      "execution_count": null,
      "metadata": {
        "id": "L11Biva0C2TK",
        "outputId": "b9a6f025-982c-4b5a-ae4f-1f03fbba416f"
      },
      "outputs": [
        {
          "name": "stdout",
          "output_type": "stream",
          "text": [
            "SVM TRAIN RMS 19.426775019013036\n",
            "\n",
            "SVM TRAIN r^2 score 0.9811013692110522\n"
          ]
        }
      ],
      "source": [
        "y_pred_train = svr2.predict(X_train)\n",
        "rms = (np.mean((y_train - y_pred_train)**2))**0.5\n",
        "print (\"SVM TRAIN RMS\", rms)\n",
        "print()\n",
        "print (\"SVM TRAIN r^2 score\",r2_score(y_train,y_pred_train))"
      ]
    },
    {
      "cell_type": "code",
      "execution_count": null,
      "metadata": {
        "id": "7A0QZNYkC2TK",
        "outputId": "84767a46-1ed9-4041-abdf-20f21f144b99"
      },
      "outputs": [
        {
          "data": {
            "image/png": "[encoded data removed]",
            "text/plain": [
              "<Figure size 432x288 with 1 Axes>"
            ]
          },
          "metadata": {
            "needs_background": "light"
          },
          "output_type": "display_data"
        }
      ],
      "source": [
        "plt.scatter(y_train,svr2.predict(X_train), label = 'Train', c='blue')\n",
        "plt.title('Support Vector Machine Predictor')\n",
        "plt.xlabel('Measured Boiling Point')\n",
        "plt.ylabel('Predicted Boiling Point')\n",
        "plt.scatter(y_test,svr2.predict(X_test),c='lightgreen', label='Test', alpha = 0.8)\n",
        "plt.legend(loc=4)\n",
        "plt.savefig('SVM Predictor.png', dpi=300)"
      ]
    },
    {
      "cell_type": "markdown",
      "metadata": {
        "id": "45kShm0AC2TL"
      },
      "source": [
        "### Summary of r^2 values and RMS values of all 5 Machine Learning Models"
      ]
    },
    {
      "cell_type": "code",
      "execution_count": null,
      "metadata": {
        "scrolled": true,
        "id": "TqkiieaRC2TL",
        "outputId": "a7cbae6a-d4cc-4f8f-c40f-fa1b72e6c6c1"
      },
      "outputs": [
        {
          "data": {
            "text/html": [
              "<div>\n",
              "<style scoped>\n",
              "    .dataframe tbody tr th:only-of-type {\n",
              "        vertical-align: middle;\n",
              "    }\n",
              "\n",
              "    .dataframe tbody tr th {\n",
              "        vertical-align: top;\n",
              "    }\n",
              "\n",
              "    .dataframe thead th {\n",
              "        text-align: right;\n",
              "    }\n",
              "</style>\n",
              "<table border=\"1\" class=\"dataframe\">\n",
              "  <thead>\n",
              "    <tr style=\"text-align: right;\">\n",
              "      <th></th>\n",
              "      <th>Machine Learning Model</th>\n",
              "      <th>RMS values</th>\n",
              "      <th>r^2 values</th>\n",
              "    </tr>\n",
              "  </thead>\n",
              "  <tbody>\n",
              "    <tr>\n",
              "      <td>0</td>\n",
              "      <td>Lasso Regression</td>\n",
              "      <td>9.643009e-01</td>\n",
              "      <td>9.643009e-01</td>\n",
              "    </tr>\n",
              "    <tr>\n",
              "      <td>1</td>\n",
              "      <td>Random Forest</td>\n",
              "      <td>8.616353e+00</td>\n",
              "      <td>9.960488e-01</td>\n",
              "    </tr>\n",
              "    <tr>\n",
              "      <td>2</td>\n",
              "      <td>Linear Regression</td>\n",
              "      <td>2.989754e+13</td>\n",
              "      <td>-4.757167e+22</td>\n",
              "    </tr>\n",
              "    <tr>\n",
              "      <td>3</td>\n",
              "      <td>K Nearest Neighbour</td>\n",
              "      <td>3.281887e+01</td>\n",
              "      <td>9.426775e-01</td>\n",
              "    </tr>\n",
              "    <tr>\n",
              "      <td>4</td>\n",
              "      <td>Support Vector Machine</td>\n",
              "      <td>2.897178e+01</td>\n",
              "      <td>9.553288e-01</td>\n",
              "    </tr>\n",
              "  </tbody>\n",
              "</table>\n",
              "</div>"
            ],
            "text/plain": [
              "   Machine Learning Model    RMS values    r^2 values\n",
              "0        Lasso Regression  9.643009e-01  9.643009e-01\n",
              "1           Random Forest  8.616353e+00  9.960488e-01\n",
              "2       Linear Regression  2.989754e+13 -4.757167e+22\n",
              "3     K Nearest Neighbour  3.281887e+01  9.426775e-01\n",
              "4  Support Vector Machine  2.897178e+01  9.553288e-01"
            ]
          },
          "execution_count": 54,
          "metadata": {},
          "output_type": "execute_result"
        }
      ],
      "source": [
        "summary = {'Machine Learning Model':['Lasso Regression','Random Forest','Linear Regression','K Nearest Neighbour','Support Vector Machine'],'RMS values':[0.964300908706161,8.616352662138313,29897537216406.742,32.81887109575831, 28.971783138275214],'r^2 values':[0.964300908706161, 0.9960488414071232,-4.757166589493432e+22,0.942677541843366,0.9553287627495698]} \n",
        "\n",
        "# Create DataFrame \n",
        "df = pd.DataFrame(summary) \n",
        "  \n",
        "# Print the output. \n",
        "df"
      ]
    },
    {
      "cell_type": "markdown",
      "metadata": {
        "id": "zj3IZB-pC2TL"
      },
      "source": [
        "Random Forest Model which has the highest r^2 value will be used for the prediction of normal boiling points."
      ]
    },
    {
      "cell_type": "markdown",
      "metadata": {
        "id": "7IQqEtExC2TL"
      },
      "source": [
        "# Upload new data"
      ]
    },
    {
      "cell_type": "code",
      "execution_count": null,
      "metadata": {
        "scrolled": true,
        "id": "grxrRqOlC2TM",
        "outputId": "fd2a4e8d-6128-448e-a70d-d319c36edc34"
      },
      "outputs": [
        {
          "data": {
            "text/html": [
              "<div>\n",
              "<style scoped>\n",
              "    .dataframe tbody tr th:only-of-type {\n",
              "        vertical-align: middle;\n",
              "    }\n",
              "\n",
              "    .dataframe tbody tr th {\n",
              "        vertical-align: top;\n",
              "    }\n",
              "\n",
              "    .dataframe thead th {\n",
              "        text-align: right;\n",
              "    }\n",
              "</style>\n",
              "<table border=\"1\" class=\"dataframe\">\n",
              "  <thead>\n",
              "    <tr style=\"text-align: right;\">\n",
              "      <th></th>\n",
              "      <th>No.</th>\n",
              "      <th>Name</th>\n",
              "      <th>SMILES strings</th>\n",
              "      <th>T_publ (K)</th>\n",
              "    </tr>\n",
              "  </thead>\n",
              "  <tbody>\n",
              "    <tr>\n",
              "      <td>0</td>\n",
              "      <td>1</td>\n",
              "      <td>2,6-dimethylheptadecane</td>\n",
              "      <td>CCCCCCCCCCCC(C)CCCC(C)C</td>\n",
              "      <td>864.1</td>\n",
              "    </tr>\n",
              "    <tr>\n",
              "      <td>1</td>\n",
              "      <td>2</td>\n",
              "      <td>3-ethyltoluene</td>\n",
              "      <td>CCC1=CC=CC(C)=C1</td>\n",
              "      <td>434.3</td>\n",
              "    </tr>\n",
              "    <tr>\n",
              "      <td>2</td>\n",
              "      <td>3</td>\n",
              "      <td>Dibenzo[a,e]pyrene</td>\n",
              "      <td>C1=CC2=C(C=C1)C1=CC=C3C=CC=C4C5=C(C=CC=C5)C(=C...</td>\n",
              "      <td>825.3</td>\n",
              "    </tr>\n",
              "    <tr>\n",
              "      <td>3</td>\n",
              "      <td>4</td>\n",
              "      <td>2,6,10-trimethylpentadecane</td>\n",
              "      <td>CCCCCC(C)CCCC(C)CCCC(C)C</td>\n",
              "      <td>571.2</td>\n",
              "    </tr>\n",
              "    <tr>\n",
              "      <td>4</td>\n",
              "      <td>5</td>\n",
              "      <td>1-methylnaphtalene</td>\n",
              "      <td>CC1=C2C=CC=CC2=CC=C1</td>\n",
              "      <td>515.8</td>\n",
              "    </tr>\n",
              "    <tr>\n",
              "      <td>5</td>\n",
              "      <td>6</td>\n",
              "      <td>2-methylnaphthalene</td>\n",
              "      <td>CC1=CC=C2C=CC=CC2=C1</td>\n",
              "      <td>514.1</td>\n",
              "    </tr>\n",
              "    <tr>\n",
              "      <td>6</td>\n",
              "      <td>7</td>\n",
              "      <td>1,5-Octadiyne</td>\n",
              "      <td>CCC#CCCC#C</td>\n",
              "      <td>419.4</td>\n",
              "    </tr>\n",
              "    <tr>\n",
              "      <td>7</td>\n",
              "      <td>8</td>\n",
              "      <td>ethyne</td>\n",
              "      <td>C#C</td>\n",
              "      <td>189.0</td>\n",
              "    </tr>\n",
              "    <tr>\n",
              "      <td>8</td>\n",
              "      <td>9</td>\n",
              "      <td>2,6,10,14-Tetramethylpentadecane</td>\n",
              "      <td>CC(C)CCCC(C)CCCC(C)CCCC(C)C</td>\n",
              "      <td>569.0</td>\n",
              "    </tr>\n",
              "    <tr>\n",
              "      <td>9</td>\n",
              "      <td>10</td>\n",
              "      <td>hopane</td>\n",
              "      <td>CC(C)[C@H]1CC[C@@]2(C)[C@H]1CC[C@]1(C)[C@@H]2C...</td>\n",
              "      <td>730.4</td>\n",
              "    </tr>\n",
              "  </tbody>\n",
              "</table>\n",
              "</div>"
            ],
            "text/plain": [
              "   No.                              Name  \\\n",
              "0    1           2,6-dimethylheptadecane   \n",
              "1    2                    3-ethyltoluene   \n",
              "2    3                Dibenzo[a,e]pyrene   \n",
              "3    4       2,6,10-trimethylpentadecane   \n",
              "4    5                1-methylnaphtalene   \n",
              "5    6               2-methylnaphthalene   \n",
              "6    7                     1,5-Octadiyne   \n",
              "7    8                            ethyne   \n",
              "8    9  2,6,10,14-Tetramethylpentadecane   \n",
              "9   10                            hopane   \n",
              "\n",
              "                                      SMILES strings  T_publ (K)  \n",
              "0                            CCCCCCCCCCCC(C)CCCC(C)C       864.1  \n",
              "1                                   CCC1=CC=CC(C)=C1       434.3  \n",
              "2  C1=CC2=C(C=C1)C1=CC=C3C=CC=C4C5=C(C=CC=C5)C(=C...       825.3  \n",
              "3                           CCCCCC(C)CCCC(C)CCCC(C)C       571.2  \n",
              "4                               CC1=C2C=CC=CC2=CC=C1       515.8  \n",
              "5                               CC1=CC=C2C=CC=CC2=C1       514.1  \n",
              "6                                         CCC#CCCC#C       419.4  \n",
              "7                                                C#C       189.0  \n",
              "8                        CC(C)CCCC(C)CCCC(C)CCCC(C)C       569.0  \n",
              "9  CC(C)[C@H]1CC[C@@]2(C)[C@H]1CC[C@]1(C)[C@@H]2C...       730.4  "
            ]
          },
          "execution_count": 55,
          "metadata": {},
          "output_type": "execute_result"
        }
      ],
      "source": [
        "excel_file = 'testingmolecules.csv'\n",
        "newdata = pd.read_csv(excel_file,sep=',')\n",
        "newdata"
      ]
    },
    {
      "cell_type": "code",
      "execution_count": null,
      "metadata": {
        "scrolled": true,
        "id": "zKRqI_GZC2TM",
        "outputId": "0a9032b7-3586-4782-ea17-9f8b6b5ddcff"
      },
      "outputs": [
        {
          "name": "stdout",
          "output_type": "stream",
          "text": [
            "['No.' 'Name' 'SMILES strings' 'T_publ (K)' 'Mol' 'Descriptors']\n"
          ]
        },
        {
          "data": {
            "text/html": [
              "<div>\n",
              "<style scoped>\n",
              "    .dataframe tbody tr th:only-of-type {\n",
              "        vertical-align: middle;\n",
              "    }\n",
              "\n",
              "    .dataframe tbody tr th {\n",
              "        vertical-align: top;\n",
              "    }\n",
              "\n",
              "    .dataframe thead th {\n",
              "        text-align: right;\n",
              "    }\n",
              "</style>\n",
              "<table border=\"1\" class=\"dataframe\">\n",
              "  <thead>\n",
              "    <tr style=\"text-align: right;\">\n",
              "      <th></th>\n",
              "      <th>No.</th>\n",
              "      <th>Name</th>\n",
              "      <th>SMILES strings</th>\n",
              "      <th>T_publ (K)</th>\n",
              "      <th>Mol</th>\n",
              "      <th>Descriptors</th>\n",
              "    </tr>\n",
              "  </thead>\n",
              "  <tbody>\n",
              "    <tr>\n",
              "      <td>0</td>\n",
              "      <td>1</td>\n",
              "      <td>2,6-dimethylheptadecane</td>\n",
              "      <td>CCCCCCCCCCCC(C)CCCC(C)C</td>\n",
              "      <td>864.1</td>\n",
              "      <td>&lt;rdkit.Chem.rdchem.Mol object at 0x7fccb0e603f0&gt;</td>\n",
              "      <td>[2.449479059951192, 0.8888039342406502, 2.4494...</td>\n",
              "    </tr>\n",
              "    <tr>\n",
              "      <td>1</td>\n",
              "      <td>2</td>\n",
              "      <td>3-ethyltoluene</td>\n",
              "      <td>CCC1=CC=CC(C)=C1</td>\n",
              "      <td>434.3</td>\n",
              "      <td>&lt;rdkit.Chem.rdchem.Mol object at 0x7fccb0d94210&gt;</td>\n",
              "      <td>[2.2222222222222223, 1.1405555555555555, 2.222...</td>\n",
              "    </tr>\n",
              "    <tr>\n",
              "      <td>2</td>\n",
              "      <td>3</td>\n",
              "      <td>Dibenzo[a,e]pyrene</td>\n",
              "      <td>C1=CC2=C(C=C1)C1=CC=C3C=CC=C4C5=C(C=CC=C5)C(=C...</td>\n",
              "      <td>825.3</td>\n",
              "      <td>&lt;rdkit.Chem.rdchem.Mol object at 0x7fccb0d944e0&gt;</td>\n",
              "      <td>[2.3669444444444445, 1.3134575774754347, 2.366...</td>\n",
              "    </tr>\n",
              "    <tr>\n",
              "      <td>3</td>\n",
              "      <td>4</td>\n",
              "      <td>2,6,10-trimethylpentadecane</td>\n",
              "      <td>CCCCCC(C)CCCC(C)CCCC(C)C</td>\n",
              "      <td>571.2</td>\n",
              "      <td>&lt;rdkit.Chem.rdchem.Mol object at 0x7fccb0d94940&gt;</td>\n",
              "      <td>[2.4465042359536406, 0.8849887677419519, 2.446...</td>\n",
              "    </tr>\n",
              "    <tr>\n",
              "      <td>4</td>\n",
              "      <td>5</td>\n",
              "      <td>1-methylnaphtalene</td>\n",
              "      <td>CC1=C2C=CC=CC2=CC=C1</td>\n",
              "      <td>515.8</td>\n",
              "      <td>&lt;rdkit.Chem.rdchem.Mol object at 0x7fccb0d94670&gt;</td>\n",
              "      <td>[2.1574074074074074, 1.326388888888889, 2.1574...</td>\n",
              "    </tr>\n",
              "    <tr>\n",
              "      <td>5</td>\n",
              "      <td>6</td>\n",
              "      <td>2-methylnaphthalene</td>\n",
              "      <td>CC1=CC=C2C=CC=CC2=C1</td>\n",
              "      <td>514.1</td>\n",
              "      <td>&lt;rdkit.Chem.rdchem.Mol object at 0x7fccb0d94080&gt;</td>\n",
              "      <td>[2.2037037037037037, 1.3176851851851854, 2.203...</td>\n",
              "    </tr>\n",
              "    <tr>\n",
              "      <td>6</td>\n",
              "      <td>7</td>\n",
              "      <td>1,5-Octadiyne</td>\n",
              "      <td>CCC#CCCC#C</td>\n",
              "      <td>419.4</td>\n",
              "      <td>&lt;rdkit.Chem.rdchem.Mol object at 0x7fccb0d94e40&gt;</td>\n",
              "      <td>[4.9929648526077095, 0.7847222222222222, 4.992...</td>\n",
              "    </tr>\n",
              "    <tr>\n",
              "      <td>7</td>\n",
              "      <td>8</td>\n",
              "      <td>ethyne</td>\n",
              "      <td>C#C</td>\n",
              "      <td>189.0</td>\n",
              "      <td>&lt;rdkit.Chem.rdchem.Mol object at 0x7fccb0d94350&gt;</td>\n",
              "      <td>[4.0, 4.0, 4.0, 4.0, 0.3329262983047797, 26.03...</td>\n",
              "    </tr>\n",
              "    <tr>\n",
              "      <td>8</td>\n",
              "      <td>9</td>\n",
              "      <td>2,6,10,14-Tetramethylpentadecane</td>\n",
              "      <td>CC(C)CCCC(C)CCCC(C)CCCC(C)C</td>\n",
              "      <td>569.0</td>\n",
              "      <td>&lt;rdkit.Chem.rdchem.Mol object at 0x7fccb0d94710&gt;</td>\n",
              "      <td>[2.4481709026203076, 0.8825736004916198, 2.448...</td>\n",
              "    </tr>\n",
              "    <tr>\n",
              "      <td>9</td>\n",
              "      <td>10</td>\n",
              "      <td>hopane</td>\n",
              "      <td>CC(C)[C@H]1CC[C@@]2(C)[C@H]1CC[C@]1(C)[C@@H]2C...</td>\n",
              "      <td>730.4</td>\n",
              "      <td>&lt;rdkit.Chem.rdchem.Mol object at 0x7fccb0d94170&gt;</td>\n",
              "      <td>[2.8111642573696143, 0.5611717156317175, 2.811...</td>\n",
              "    </tr>\n",
              "  </tbody>\n",
              "</table>\n",
              "</div>"
            ],
            "text/plain": [
              "   No.                              Name  \\\n",
              "0    1           2,6-dimethylheptadecane   \n",
              "1    2                    3-ethyltoluene   \n",
              "2    3                Dibenzo[a,e]pyrene   \n",
              "3    4       2,6,10-trimethylpentadecane   \n",
              "4    5                1-methylnaphtalene   \n",
              "5    6               2-methylnaphthalene   \n",
              "6    7                     1,5-Octadiyne   \n",
              "7    8                            ethyne   \n",
              "8    9  2,6,10,14-Tetramethylpentadecane   \n",
              "9   10                            hopane   \n",
              "\n",
              "                                      SMILES strings  T_publ (K)  \\\n",
              "0                            CCCCCCCCCCCC(C)CCCC(C)C       864.1   \n",
              "1                                   CCC1=CC=CC(C)=C1       434.3   \n",
              "2  C1=CC2=C(C=C1)C1=CC=C3C=CC=C4C5=C(C=CC=C5)C(=C...       825.3   \n",
              "3                           CCCCCC(C)CCCC(C)CCCC(C)C       571.2   \n",
              "4                               CC1=C2C=CC=CC2=CC=C1       515.8   \n",
              "5                               CC1=CC=C2C=CC=CC2=C1       514.1   \n",
              "6                                         CCC#CCCC#C       419.4   \n",
              "7                                                C#C       189.0   \n",
              "8                        CC(C)CCCC(C)CCCC(C)CCCC(C)C       569.0   \n",
              "9  CC(C)[C@H]1CC[C@@]2(C)[C@H]1CC[C@]1(C)[C@@H]2C...       730.4   \n",
              "\n",
              "                                                Mol  \\\n",
              "0  <rdkit.Chem.rdchem.Mol object at 0x7fccb0e603f0>   \n",
              "1  <rdkit.Chem.rdchem.Mol object at 0x7fccb0d94210>   \n",
              "2  <rdkit.Chem.rdchem.Mol object at 0x7fccb0d944e0>   \n",
              "3  <rdkit.Chem.rdchem.Mol object at 0x7fccb0d94940>   \n",
              "4  <rdkit.Chem.rdchem.Mol object at 0x7fccb0d94670>   \n",
              "5  <rdkit.Chem.rdchem.Mol object at 0x7fccb0d94080>   \n",
              "6  <rdkit.Chem.rdchem.Mol object at 0x7fccb0d94e40>   \n",
              "7  <rdkit.Chem.rdchem.Mol object at 0x7fccb0d94350>   \n",
              "8  <rdkit.Chem.rdchem.Mol object at 0x7fccb0d94710>   \n",
              "9  <rdkit.Chem.rdchem.Mol object at 0x7fccb0d94170>   \n",
              "\n",
              "                                         Descriptors  \n",
              "0  [2.449479059951192, 0.8888039342406502, 2.4494...  \n",
              "1  [2.2222222222222223, 1.1405555555555555, 2.222...  \n",
              "2  [2.3669444444444445, 1.3134575774754347, 2.366...  \n",
              "3  [2.4465042359536406, 0.8849887677419519, 2.446...  \n",
              "4  [2.1574074074074074, 1.326388888888889, 2.1574...  \n",
              "5  [2.2037037037037037, 1.3176851851851854, 2.203...  \n",
              "6  [4.9929648526077095, 0.7847222222222222, 4.992...  \n",
              "7  [4.0, 4.0, 4.0, 4.0, 0.3329262983047797, 26.03...  \n",
              "8  [2.4481709026203076, 0.8825736004916198, 2.448...  \n",
              "9  [2.8111642573696143, 0.5611717156317175, 2.811...  "
            ]
          },
          "execution_count": 56,
          "metadata": {},
          "output_type": "execute_result"
        }
      ],
      "source": [
        "# calculate the molecules descriptors and append them to the data object\n",
        "#data['SMILES strings'] = data['SMILES strings'].astype('str')\n",
        "newdata['Mol'] = newdata['SMILES strings'].apply(Chem.MolFromSmiles)\n",
        "newdata['Descriptors'] = newdata['Mol'].apply(get_fps)\n",
        "\n",
        "print(newdata.columns.values)\n",
        "\n",
        "newdata"
      ]
    },
    {
      "cell_type": "markdown",
      "metadata": {
        "id": "5DZOuU83C2TN"
      },
      "source": [
        "## Identify all the molecular descriptors used in Random Forest Model"
      ]
    },
    {
      "cell_type": "code",
      "execution_count": null,
      "metadata": {
        "id": "f38FN8HQC2TN",
        "outputId": "932dd908-83a3-45ad-eb2a-de8e8377e003"
      },
      "outputs": [
        {
          "name": "stdout",
          "output_type": "stream",
          "text": [
            "[1, 3, 4, 5, 6, 10, 11, 13, 14, 16, 17, 18, 20, 22, 27, 28, 29, 30, 32, 35, 46, 48, 49, 66, 77, 78, 81, 82, 88, 89, 91, 93, 95, 99, 102, 104, 109, 111, 145, 149, 151, 198]\n"
          ]
        }
      ],
      "source": [
        "features_used = (model.coef_ != 0) * (np.arange(len(model.coef_)))\n",
        "features_used = list(set(features_used))\n",
        "features_used = features_used[1:]\n",
        "features_used.sort()\n",
        "print(features_used)"
      ]
    },
    {
      "cell_type": "code",
      "execution_count": null,
      "metadata": {
        "id": "yplL_sJoC2TN",
        "outputId": "02985046-e5fe-4d65-9d6b-1a0c0fa471cb"
      },
      "outputs": [
        {
          "data": {
            "text/plain": [
              "array([False,  True, False,  True, False, False, False, False, False,\n",
              "       False, False,  True, False,  True,  True, False, False, False,\n",
              "        True, False, False, False, False, False, False, False, False,\n",
              "       False, False, False, False, False,  True, False, False, False,\n",
              "       False, False, False, False, False, False, False, False, False,\n",
              "       False,  True, False, False,  True, False, False, False, False,\n",
              "       False, False, False, False, False, False, False, False, False,\n",
              "       False, False, False,  True, False, False, False, False, False,\n",
              "       False, False, False, False, False,  True,  True, False, False,\n",
              "       False,  True, False, False, False, False, False, False, False,\n",
              "       False, False, False,  True, False, False, False, False, False,\n",
              "        True, False, False, False, False, False, False, False, False,\n",
              "       False, False, False, False, False, False, False, False, False,\n",
              "       False, False, False, False, False, False, False, False, False,\n",
              "       False, False, False, False, False, False, False, False, False,\n",
              "       False, False, False, False, False, False, False, False, False,\n",
              "       False, False, False, False, False, False, False, False, False,\n",
              "       False, False, False, False, False, False, False, False, False,\n",
              "       False, False, False, False, False, False, False, False, False,\n",
              "       False, False, False, False, False, False, False, False, False,\n",
              "       False, False, False, False, False, False, False, False, False,\n",
              "       False, False, False, False, False, False, False, False, False,\n",
              "        True, False])"
            ]
          },
          "execution_count": 58,
          "metadata": {},
          "output_type": "execute_result"
        }
      ],
      "source": [
        "# Prove that the oth molecular descriptor is not taken into account in this model.\n",
        "model.coef_ < 0"
      ]
    },
    {
      "cell_type": "code",
      "execution_count": null,
      "metadata": {
        "scrolled": true,
        "id": "z2b7ji7EC2TO"
      },
      "outputs": [],
      "source": [
        "features2 = np.where(model.coef_!=0)[0]"
      ]
    },
    {
      "cell_type": "code",
      "execution_count": null,
      "metadata": {
        "scrolled": true,
        "id": "yBBergnCC2TO",
        "outputId": "7e9e7795-b801-4304-a88b-2ddaadd77181"
      },
      "outputs": [
        {
          "data": {
            "text/plain": [
              "(43,)"
            ]
          },
          "execution_count": 60,
          "metadata": {},
          "output_type": "execute_result"
        }
      ],
      "source": [
        "features2.shape"
      ]
    },
    {
      "cell_type": "code",
      "execution_count": null,
      "metadata": {
        "scrolled": true,
        "id": "219SWPkOC2TP",
        "outputId": "af2a5538-9354-485b-d519-d4f49bde616d"
      },
      "outputs": [
        {
          "data": {
            "text/html": [
              "<div>\n",
              "<style scoped>\n",
              "    .dataframe tbody tr th:only-of-type {\n",
              "        vertical-align: middle;\n",
              "    }\n",
              "\n",
              "    .dataframe tbody tr th {\n",
              "        vertical-align: top;\n",
              "    }\n",
              "\n",
              "    .dataframe thead th {\n",
              "        text-align: right;\n",
              "    }\n",
              "</style>\n",
              "<table border=\"1\" class=\"dataframe\">\n",
              "  <thead>\n",
              "    <tr style=\"text-align: right;\">\n",
              "      <th></th>\n",
              "      <th>Descriptors</th>\n",
              "    </tr>\n",
              "  </thead>\n",
              "  <tbody>\n",
              "    <tr>\n",
              "      <td>0</td>\n",
              "      <td>MaxEStateIndex</td>\n",
              "    </tr>\n",
              "    <tr>\n",
              "      <td>1</td>\n",
              "      <td>MinEStateIndex</td>\n",
              "    </tr>\n",
              "    <tr>\n",
              "      <td>2</td>\n",
              "      <td>MaxAbsEStateIndex</td>\n",
              "    </tr>\n",
              "    <tr>\n",
              "      <td>3</td>\n",
              "      <td>MinAbsEStateIndex</td>\n",
              "    </tr>\n",
              "    <tr>\n",
              "      <td>4</td>\n",
              "      <td>qed</td>\n",
              "    </tr>\n",
              "    <tr>\n",
              "      <td>...</td>\n",
              "      <td>...</td>\n",
              "    </tr>\n",
              "    <tr>\n",
              "      <td>195</td>\n",
              "      <td>fr_thiazole</td>\n",
              "    </tr>\n",
              "    <tr>\n",
              "      <td>196</td>\n",
              "      <td>fr_thiocyan</td>\n",
              "    </tr>\n",
              "    <tr>\n",
              "      <td>197</td>\n",
              "      <td>fr_thiophene</td>\n",
              "    </tr>\n",
              "    <tr>\n",
              "      <td>198</td>\n",
              "      <td>fr_unbrch_alkane</td>\n",
              "    </tr>\n",
              "    <tr>\n",
              "      <td>199</td>\n",
              "      <td>fr_urea</td>\n",
              "    </tr>\n",
              "  </tbody>\n",
              "</table>\n",
              "<p>200 rows × 1 columns</p>\n",
              "</div>"
            ],
            "text/plain": [
              "           Descriptors\n",
              "0       MaxEStateIndex\n",
              "1       MinEStateIndex\n",
              "2    MaxAbsEStateIndex\n",
              "3    MinAbsEStateIndex\n",
              "4                  qed\n",
              "..                 ...\n",
              "195        fr_thiazole\n",
              "196        fr_thiocyan\n",
              "197       fr_thiophene\n",
              "198   fr_unbrch_alkane\n",
              "199            fr_urea\n",
              "\n",
              "[200 rows x 1 columns]"
            ]
          },
          "execution_count": 61,
          "metadata": {},
          "output_type": "execute_result"
        }
      ],
      "source": [
        "data = {\"Descriptors\":(all_descs)}\n",
        "MolecularDescriptors = pd.DataFrame(data)\n",
        "MolecularDescriptors"
      ]
    },
    {
      "cell_type": "code",
      "execution_count": null,
      "metadata": {
        "scrolled": true,
        "id": "tehcLeE_C2TQ",
        "outputId": "a10bf371-95a2-4a67-d733-8821523e0c9f"
      },
      "outputs": [
        {
          "data": {
            "text/plain": [
              "['MaxEStateIndex',\n",
              " 'MinEStateIndex',\n",
              " 'MinAbsEStateIndex',\n",
              " 'qed',\n",
              " 'MolWt',\n",
              " 'HeavyAtomMolWt',\n",
              " 'MaxPartialCharge',\n",
              " 'MinPartialCharge',\n",
              " 'MinAbsPartialCharge',\n",
              " 'FpDensityMorgan1',\n",
              " 'FpDensityMorgan3',\n",
              " 'BalabanJ',\n",
              " 'BertzCT',\n",
              " 'Chi0n',\n",
              " 'Chi1',\n",
              " 'Chi3n',\n",
              " 'Chi3v',\n",
              " 'Chi4n',\n",
              " 'Chi4v',\n",
              " 'Ipc',\n",
              " 'Kappa3',\n",
              " 'PEOE_VSA5',\n",
              " 'PEOE_VSA7',\n",
              " 'PEOE_VSA8',\n",
              " 'SlogP_VSA3',\n",
              " 'EState_VSA2',\n",
              " 'EState_VSA3',\n",
              " 'EState_VSA6',\n",
              " 'EState_VSA7',\n",
              " 'VSA_EState3',\n",
              " 'VSA_EState4',\n",
              " 'VSA_EState6',\n",
              " 'VSA_EState8',\n",
              " 'FractionCSP3',\n",
              " 'NumAliphaticCarbocycles',\n",
              " 'NumAromaticCarbocycles',\n",
              " 'NumAromaticRings',\n",
              " 'NumSaturatedCarbocycles',\n",
              " 'NumSaturatedRings',\n",
              " 'fr_aryl_methyl',\n",
              " 'fr_benzene',\n",
              " 'fr_bicyclic',\n",
              " 'fr_unbrch_alkane']"
            ]
          },
          "execution_count": 62,
          "metadata": {},
          "output_type": "execute_result"
        }
      ],
      "source": [
        "MolecularDescriptors_dataframe = MolecularDescriptors.iloc[features2]\n",
        "MolecularDescriptors_dataframe\n",
        "selectedMD_list = MolecularDescriptors_dataframe[\"Descriptors\"].tolist()\n",
        "selectedMD_list"
      ]
    },
    {
      "cell_type": "code",
      "execution_count": null,
      "metadata": {
        "scrolled": false,
        "id": "O6hxPUtNC2TQ",
        "outputId": "3a2c7df5-a5e8-4a9a-e6fb-edea10277e72"
      },
      "outputs": [
        {
          "data": {
            "text/plain": [
              "43"
            ]
          },
          "execution_count": 63,
          "metadata": {},
          "output_type": "execute_result"
        }
      ],
      "source": [
        "len(selectedMD_list)"
      ]
    },
    {
      "cell_type": "markdown",
      "metadata": {
        "id": "UAPvj8a7C2TR"
      },
      "source": [
        "# Random Forest Regression"
      ]
    },
    {
      "cell_type": "markdown",
      "metadata": {
        "id": "KDOYQvIOC2TR"
      },
      "source": [
        "## Data Fitting"
      ]
    },
    {
      "cell_type": "code",
      "execution_count": null,
      "metadata": {
        "id": "fTzBUUccC2TR"
      },
      "outputs": [],
      "source": [
        "X_train = np.array(list(published['Descriptors']))\n",
        "X_test = np.array(list(newdata['Descriptors']))\n",
        "y_train = published['T_publ (K)'].to_numpy().astype(float)\n",
        "#y_test = newdata['T_publ (K)'].to_numpy().astype(float)\n",
        "\n",
        "st = StandardScaler()\n",
        "st.fit(X_train)\n",
        "st.fit(X_test)\n",
        "X_train = st.transform(X_train)\n",
        "X_test = st.transform(X_test)"
      ]
    },
    {
      "cell_type": "code",
      "execution_count": null,
      "metadata": {
        "scrolled": true,
        "id": "eQhXwaUwC2TS",
        "outputId": "ce622439-94b7-40e6-c807-4c72783fdd57"
      },
      "outputs": [
        {
          "data": {
            "text/plain": [
              "RandomForestRegressor(bootstrap=True, criterion='mse', max_depth=None,\n",
              "                      max_features='auto', max_leaf_nodes=None,\n",
              "                      min_impurity_decrease=0.0, min_impurity_split=None,\n",
              "                      min_samples_leaf=1, min_samples_split=2,\n",
              "                      min_weight_fraction_leaf=0.0, n_estimators=100,\n",
              "                      n_jobs=None, oob_score=True, random_state=None, verbose=0,\n",
              "                      warm_start=False)"
            ]
          },
          "execution_count": 66,
          "metadata": {},
          "output_type": "execute_result"
        }
      ],
      "source": [
        "rf2= RandomForestRegressor(n_estimators=100, oob_score=True, max_features='auto')\n",
        "rf2.fit(X_train, y_train)"
      ]
    },
    {
      "cell_type": "markdown",
      "metadata": {
        "id": "K18nFIs-C2TS"
      },
      "source": [
        "## Prediction of the boiling points for the 10 molecules"
      ]
    },
    {
      "cell_type": "code",
      "execution_count": null,
      "metadata": {
        "id": "j4DdLZn0C2TS",
        "outputId": "f830c8b1-e9c6-45a2-80a7-20b8e496fc20"
      },
      "outputs": [
        {
          "name": "stdout",
          "output_type": "stream",
          "text": [
            "[606.052      434.85618333 673.143      586.006      481.999\n",
            " 482.181      404.5285     212.299      603.102      729.649     ]\n"
          ]
        }
      ],
      "source": [
        "y_pred = rf2.predict(X_test)\n",
        "print(y_pred)"
      ]
    },
    {
      "cell_type": "code",
      "execution_count": null,
      "metadata": {
        "scrolled": true,
        "id": "wVASQaTsC2TT",
        "outputId": "59a1ffb4-ee25-45cd-ca58-d97918cce941"
      },
      "outputs": [
        {
          "data": {
            "text/plain": [
              "array([411.5, 398.8, 526.2, 673.2, 307.2, 409.3, 627. , 693.1, 469. ,\n",
              "       758.8, 353.5, 442.3, 456.9, 435.2, 429.3, 419.3, 586.4, 575.3,\n",
              "       524.3, 685.4, 491.1, 629.7, 337.8, 476. , 812.7, 327. , 452. ,\n",
              "       543.1, 489.4, 661.9, 383.8, 541.5, 376.6, 710.9, 450.3, 695.3,\n",
              "       266.9, 616.9, 428.9, 240.4, 537.5, 397.5, 649. , 345.9, 362.9,\n",
              "       399.7, 589.9, 397.2, 683.2, 614.4, 392.5, 333.4, 374.1, 769. ,\n",
              "       382.3, 442.5, 640.4, 322.4, 304.3, 372.4, 601.7, 402.9, 393.1,\n",
              "       378.1])"
            ]
          },
          "execution_count": 68,
          "metadata": {},
          "output_type": "execute_result"
        }
      ],
      "source": [
        "y_test"
      ]
    },
    {
      "cell_type": "code",
      "execution_count": null,
      "metadata": {
        "id": "qenkgEVfC2TT"
      },
      "outputs": [],
      "source": [
        "X_train = np.array(list(published['Descriptors']))\n",
        "X_test = np.array(list(newdata['Descriptors']))\n",
        "y_train = published['T_publ (K)'].to_numpy().astype(float)\n",
        "\n",
        "st = StandardScaler()\n",
        "st.fit(X_train)\n",
        "st.fit(X_test)\n",
        "X_train = st.transform(X_train)\n",
        "X_test = st.transform(X_test)"
      ]
    },
    {
      "cell_type": "code",
      "execution_count": null,
      "metadata": {
        "id": "OLl8daiaC2TT",
        "outputId": "25bf927d-002c-4f11-c7f3-dcea3286aa47"
      },
      "outputs": [
        {
          "data": {
            "text/plain": [
              "<module 'rdkit.Chem.Descriptors' from '/opt/conda/lib/python3.7/site-packages/rdkit/Chem/Descriptors.py'>"
            ]
          },
          "execution_count": 70,
          "metadata": {},
          "output_type": "execute_result"
        }
      ],
      "source": [
        "Descriptors"
      ]
    },
    {
      "cell_type": "code",
      "execution_count": null,
      "metadata": {
        "id": "IMWNJCtlC2TT",
        "outputId": "6a05592e-d8d2-4a84-e89a-b772a153f679"
      },
      "outputs": [
        {
          "data": {
            "text/plain": [
              "array([1.00021856e-04, 9.92210434e-05, 5.03170306e-05, 2.24825755e-04,\n",
              "       1.01443343e-03, 2.66290673e-03, 2.20057415e-03, 2.40163208e-03,\n",
              "       2.06464609e-03, 0.00000000e+00, 6.41389778e-05, 1.80995925e-04,\n",
              "       1.12497310e-04, 8.96382551e-05, 7.57595264e-04, 1.27513119e-04,\n",
              "       2.43403661e-04, 3.66508322e-04, 1.13722406e-03, 1.09671599e-03,\n",
              "       2.54183964e-03, 1.24233747e-03, 2.23259660e-01, 3.27765426e-03,\n",
              "       3.30285401e-03, 1.52269842e-03, 2.22314869e-03, 1.08734854e-03,\n",
              "       9.97600499e-04, 5.27451893e-04, 2.42836361e-04, 2.04956438e-05,\n",
              "       7.20459768e-01, 8.98956892e-04, 2.15375605e-04, 2.01942923e-04,\n",
              "       4.17498730e-03, 0.00000000e+00, 0.00000000e+00, 0.00000000e+00,\n",
              "       0.00000000e+00, 0.00000000e+00, 0.00000000e+00, 0.00000000e+00,\n",
              "       0.00000000e+00, 0.00000000e+00, 2.04815159e-06, 3.40233320e-04,\n",
              "       2.39074558e-04, 3.12749122e-07, 0.00000000e+00, 0.00000000e+00,\n",
              "       1.78851080e-05, 0.00000000e+00, 0.00000000e+00, 8.18087208e-06,\n",
              "       3.44652274e-04, 0.00000000e+00, 1.12871887e-05, 0.00000000e+00,\n",
              "       8.07978328e-07, 0.00000000e+00, 0.00000000e+00, 0.00000000e+00,\n",
              "       0.00000000e+00, 0.00000000e+00, 6.43110614e-06, 3.98014913e-05,\n",
              "       2.06844696e-04, 1.54226335e-05, 0.00000000e+00, 4.43044504e-05,\n",
              "       0.00000000e+00, 0.00000000e+00, 0.00000000e+00, 0.00000000e+00,\n",
              "       0.00000000e+00, 1.54093090e-06, 4.50256298e-06, 2.84785458e-05,\n",
              "       2.95263826e-04, 4.42879582e-07, 7.23868886e-05, 5.28331185e-05,\n",
              "       0.00000000e+00, 0.00000000e+00, 0.00000000e+00, 0.00000000e+00,\n",
              "       5.22704221e-05, 7.76084505e-05, 3.73452847e-05, 6.39282137e-05,\n",
              "       4.26454700e-04, 6.50796286e-05, 0.00000000e+00, 6.77465948e-06,\n",
              "       3.07256295e-03, 0.00000000e+00, 0.00000000e+00, 3.85987505e-06,\n",
              "       0.00000000e+00, 1.69437683e-06, 1.39331294e-05, 0.00000000e+00,\n",
              "       3.74302924e-05, 0.00000000e+00, 0.00000000e+00, 0.00000000e+00,\n",
              "       2.94347693e-04, 8.45299914e-06, 0.00000000e+00, 8.92560636e-06,\n",
              "       5.04199016e-05, 5.11596187e-04, 1.20599932e-02, 0.00000000e+00,\n",
              "       0.00000000e+00, 0.00000000e+00, 0.00000000e+00, 0.00000000e+00,\n",
              "       0.00000000e+00, 0.00000000e+00, 0.00000000e+00, 0.00000000e+00,\n",
              "       0.00000000e+00, 0.00000000e+00, 0.00000000e+00, 0.00000000e+00,\n",
              "       0.00000000e+00, 0.00000000e+00, 0.00000000e+00, 0.00000000e+00,\n",
              "       0.00000000e+00, 0.00000000e+00, 0.00000000e+00, 0.00000000e+00,\n",
              "       0.00000000e+00, 0.00000000e+00, 0.00000000e+00, 0.00000000e+00,\n",
              "       0.00000000e+00, 9.19984618e-06, 0.00000000e+00, 0.00000000e+00,\n",
              "       0.00000000e+00, 1.40789238e-05, 0.00000000e+00, 0.00000000e+00,\n",
              "       0.00000000e+00, 1.58776429e-05, 0.00000000e+00, 1.47270684e-04,\n",
              "       0.00000000e+00, 0.00000000e+00, 0.00000000e+00, 0.00000000e+00,\n",
              "       0.00000000e+00, 0.00000000e+00, 0.00000000e+00, 0.00000000e+00,\n",
              "       0.00000000e+00, 0.00000000e+00, 0.00000000e+00, 0.00000000e+00,\n",
              "       0.00000000e+00, 0.00000000e+00, 0.00000000e+00, 0.00000000e+00,\n",
              "       0.00000000e+00, 0.00000000e+00, 0.00000000e+00, 0.00000000e+00,\n",
              "       0.00000000e+00, 0.00000000e+00, 0.00000000e+00, 0.00000000e+00,\n",
              "       0.00000000e+00, 0.00000000e+00, 0.00000000e+00, 0.00000000e+00,\n",
              "       0.00000000e+00, 0.00000000e+00, 0.00000000e+00, 0.00000000e+00,\n",
              "       0.00000000e+00, 0.00000000e+00, 0.00000000e+00, 0.00000000e+00,\n",
              "       0.00000000e+00, 0.00000000e+00, 0.00000000e+00, 0.00000000e+00,\n",
              "       0.00000000e+00, 0.00000000e+00, 0.00000000e+00, 0.00000000e+00,\n",
              "       0.00000000e+00, 0.00000000e+00, 9.63950540e-05, 0.00000000e+00])"
            ]
          },
          "execution_count": 71,
          "metadata": {},
          "output_type": "execute_result"
        }
      ],
      "source": [
        "rf2.feature_importances_"
      ]
    },
    {
      "cell_type": "code",
      "execution_count": null,
      "metadata": {
        "scrolled": true,
        "id": "cmdtB8PjC2TU",
        "outputId": "d1c45b8d-1eec-436c-afae-cf743412161d"
      },
      "outputs": [
        {
          "data": {
            "text/html": [
              "<div>\n",
              "<style scoped>\n",
              "    .dataframe tbody tr th:only-of-type {\n",
              "        vertical-align: middle;\n",
              "    }\n",
              "\n",
              "    .dataframe tbody tr th {\n",
              "        vertical-align: top;\n",
              "    }\n",
              "\n",
              "    .dataframe thead th {\n",
              "        text-align: right;\n",
              "    }\n",
              "</style>\n",
              "<table border=\"1\" class=\"dataframe\">\n",
              "  <thead>\n",
              "    <tr style=\"text-align: right;\">\n",
              "      <th></th>\n",
              "      <th>Molecule Name</th>\n",
              "      <th>SMILES Strings</th>\n",
              "      <th>Published BP (K)</th>\n",
              "      <th>Predicted BP (K)</th>\n",
              "      <th>Absolute Error (K)</th>\n",
              "      <th>Relative Error (%)</th>\n",
              "    </tr>\n",
              "  </thead>\n",
              "  <tbody>\n",
              "    <tr>\n",
              "      <td>0</td>\n",
              "      <td>2,6-dimethylheptadecane</td>\n",
              "      <td>CCCCCCCCCCCC(C)CCCC(C)C</td>\n",
              "      <td>864.1</td>\n",
              "      <td>606.052000</td>\n",
              "      <td>-258.048000</td>\n",
              "      <td>-29.863210</td>\n",
              "    </tr>\n",
              "    <tr>\n",
              "      <td>1</td>\n",
              "      <td>3-ethyltoluene</td>\n",
              "      <td>CCC1=CC=CC(C)=C1</td>\n",
              "      <td>434.3</td>\n",
              "      <td>434.856183</td>\n",
              "      <td>0.556183</td>\n",
              "      <td>0.128064</td>\n",
              "    </tr>\n",
              "    <tr>\n",
              "      <td>2</td>\n",
              "      <td>Dibenzo[a,e]pyrene</td>\n",
              "      <td>C1=CC2=C(C=C1)C1=CC=C3C=CC=C4C5=C(C=CC=C5)C(=C...</td>\n",
              "      <td>825.3</td>\n",
              "      <td>673.143000</td>\n",
              "      <td>-152.157000</td>\n",
              "      <td>-18.436569</td>\n",
              "    </tr>\n",
              "    <tr>\n",
              "      <td>3</td>\n",
              "      <td>2,6,10-trimethylpentadecane</td>\n",
              "      <td>CCCCCC(C)CCCC(C)CCCC(C)C</td>\n",
              "      <td>571.2</td>\n",
              "      <td>586.006000</td>\n",
              "      <td>14.806000</td>\n",
              "      <td>2.592087</td>\n",
              "    </tr>\n",
              "    <tr>\n",
              "      <td>4</td>\n",
              "      <td>1-methylnaphtalene</td>\n",
              "      <td>CC1=C2C=CC=CC2=CC=C1</td>\n",
              "      <td>515.8</td>\n",
              "      <td>481.999000</td>\n",
              "      <td>-33.801000</td>\n",
              "      <td>-6.553121</td>\n",
              "    </tr>\n",
              "    <tr>\n",
              "      <td>5</td>\n",
              "      <td>2-methylnaphthalene</td>\n",
              "      <td>CC1=CC=C2C=CC=CC2=C1</td>\n",
              "      <td>514.1</td>\n",
              "      <td>482.181000</td>\n",
              "      <td>-31.919000</td>\n",
              "      <td>-6.208714</td>\n",
              "    </tr>\n",
              "    <tr>\n",
              "      <td>6</td>\n",
              "      <td>1,5-Octadiyne</td>\n",
              "      <td>CCC#CCCC#C</td>\n",
              "      <td>419.4</td>\n",
              "      <td>404.528500</td>\n",
              "      <td>-14.871500</td>\n",
              "      <td>-3.545899</td>\n",
              "    </tr>\n",
              "    <tr>\n",
              "      <td>7</td>\n",
              "      <td>ethyne</td>\n",
              "      <td>C#C</td>\n",
              "      <td>189.0</td>\n",
              "      <td>212.299000</td>\n",
              "      <td>23.299000</td>\n",
              "      <td>12.327513</td>\n",
              "    </tr>\n",
              "    <tr>\n",
              "      <td>8</td>\n",
              "      <td>2,6,10,14-Tetramethylpentadecane</td>\n",
              "      <td>CC(C)CCCC(C)CCCC(C)CCCC(C)C</td>\n",
              "      <td>569.0</td>\n",
              "      <td>603.102000</td>\n",
              "      <td>34.102000</td>\n",
              "      <td>5.993322</td>\n",
              "    </tr>\n",
              "    <tr>\n",
              "      <td>9</td>\n",
              "      <td>hopane</td>\n",
              "      <td>CC(C)[C@H]1CC[C@@]2(C)[C@H]1CC[C@]1(C)[C@@H]2C...</td>\n",
              "      <td>730.4</td>\n",
              "      <td>729.649000</td>\n",
              "      <td>-0.751000</td>\n",
              "      <td>-0.102820</td>\n",
              "    </tr>\n",
              "  </tbody>\n",
              "</table>\n",
              "</div>"
            ],
            "text/plain": [
              "                      Molecule Name  \\\n",
              "0           2,6-dimethylheptadecane   \n",
              "1                    3-ethyltoluene   \n",
              "2                Dibenzo[a,e]pyrene   \n",
              "3       2,6,10-trimethylpentadecane   \n",
              "4                1-methylnaphtalene   \n",
              "5               2-methylnaphthalene   \n",
              "6                     1,5-Octadiyne   \n",
              "7                            ethyne   \n",
              "8  2,6,10,14-Tetramethylpentadecane   \n",
              "9                            hopane   \n",
              "\n",
              "                                      SMILES Strings  Published BP (K)  \\\n",
              "0                            CCCCCCCCCCCC(C)CCCC(C)C             864.1   \n",
              "1                                   CCC1=CC=CC(C)=C1             434.3   \n",
              "2  C1=CC2=C(C=C1)C1=CC=C3C=CC=C4C5=C(C=CC=C5)C(=C...             825.3   \n",
              "3                           CCCCCC(C)CCCC(C)CCCC(C)C             571.2   \n",
              "4                               CC1=C2C=CC=CC2=CC=C1             515.8   \n",
              "5                               CC1=CC=C2C=CC=CC2=C1             514.1   \n",
              "6                                         CCC#CCCC#C             419.4   \n",
              "7                                                C#C             189.0   \n",
              "8                        CC(C)CCCC(C)CCCC(C)CCCC(C)C             569.0   \n",
              "9  CC(C)[C@H]1CC[C@@]2(C)[C@H]1CC[C@]1(C)[C@@H]2C...             730.4   \n",
              "\n",
              "   Predicted BP (K)  Absolute Error (K)  Relative Error (%)  \n",
              "0        606.052000         -258.048000          -29.863210  \n",
              "1        434.856183            0.556183            0.128064  \n",
              "2        673.143000         -152.157000          -18.436569  \n",
              "3        586.006000           14.806000            2.592087  \n",
              "4        481.999000          -33.801000           -6.553121  \n",
              "5        482.181000          -31.919000           -6.208714  \n",
              "6        404.528500          -14.871500           -3.545899  \n",
              "7        212.299000           23.299000           12.327513  \n",
              "8        603.102000           34.102000            5.993322  \n",
              "9        729.649000           -0.751000           -0.102820  "
            ]
          },
          "execution_count": 72,
          "metadata": {},
          "output_type": "execute_result"
        }
      ],
      "source": [
        "absolute_error = y_pred - newdata['T_publ (K)']\n",
        "relative_error = (absolute_error / newdata['T_publ (K)'])* 100\n",
        "error_table = {'Molecule Name':newdata['Name'],'SMILES Strings': newdata['SMILES strings'],'Published BP (K)': newdata['T_publ (K)'],'Predicted BP (K)':y_pred,'Absolute Error (K)':absolute_error, 'Relative Error (%)': relative_error} \n",
        "\n",
        "# Create DataFrame \n",
        "df_error = pd.DataFrame(error_table) \n",
        "\n",
        "# Print the output \n",
        "df_error"
      ]
    },
    {
      "cell_type": "markdown",
      "metadata": {
        "id": "2UyExQQ2C2TU"
      },
      "source": [
        "## Molecule Descriptors Calculations"
      ]
    },
    {
      "cell_type": "markdown",
      "metadata": {
        "id": "xa-qxv1nC2TU"
      },
      "source": [
        "Selected molecular descriptors used in the random forest are numerical values associated with the chemical constitution for correlation of chemical structure with the normal boiling points."
      ]
    },
    {
      "cell_type": "code",
      "execution_count": null,
      "metadata": {
        "id": "u8Aysy3EC2TU"
      },
      "outputs": [],
      "source": [
        "mol1 = Chem.MolFromSmiles('CCCCCCCCCCCC(C)CCCC(C)C')\n",
        "mol2 = Chem.MolFromSmiles('CCC1=CC=CC(C)=C1')\n",
        "mol3 = Chem.MolFromSmiles('C1=CC2=C(C=C1)C1=CC=C3C=CC=C4C5=C(C=CC=C5)C(=C2)C1=C34')\n",
        "mol4 = Chem.MolFromSmiles('CCCCCC(C)CCCC(C)CCCC(C)C')\n",
        "mol5 = Chem.MolFromSmiles('CC1=C2C=CC=CC2=CC=C1')\n",
        "mol6 = Chem.MolFromSmiles('CC1=CC=C2C=CC=CC2=C1')\n",
        "mol7 = Chem.MolFromSmiles('CCC#CCCC#C')\n",
        "mol8 = Chem.MolFromSmiles('C#C')\n",
        "mol9 = Chem.MolFromSmiles('CC(C)CCCC(C)CCCC(C)CCCC(C)C')\n",
        "mol10 = Chem.MolFromSmiles('CC(C)[C@H]1CC[C@@]2(C)[C@H]1CC[C@]1(C)[C@@H]2CC[C@@H]2[C@@]3(C)CCCC(C)(C)[C@@H]3CC[C@@]12C')"
      ]
    },
    {
      "cell_type": "code",
      "execution_count": null,
      "metadata": {
        "scrolled": false,
        "id": "stvkJYt6C2TV",
        "outputId": "c3020b5d-b985-40a8-e86a-2e7588bcfd63"
      },
      "outputs": [
        {
          "data": {
            "text/plain": [
              "['MaxEStateIndex',\n",
              " 'MinEStateIndex',\n",
              " 'MinAbsEStateIndex',\n",
              " 'qed',\n",
              " 'MolWt',\n",
              " 'HeavyAtomMolWt',\n",
              " 'MaxPartialCharge',\n",
              " 'MinPartialCharge',\n",
              " 'MinAbsPartialCharge',\n",
              " 'FpDensityMorgan1',\n",
              " 'FpDensityMorgan3',\n",
              " 'BalabanJ',\n",
              " 'BertzCT',\n",
              " 'Chi0n',\n",
              " 'Chi1',\n",
              " 'Chi3n',\n",
              " 'Chi3v',\n",
              " 'Chi4n',\n",
              " 'Chi4v',\n",
              " 'Ipc',\n",
              " 'Kappa3',\n",
              " 'PEOE_VSA5',\n",
              " 'PEOE_VSA7',\n",
              " 'PEOE_VSA8',\n",
              " 'SlogP_VSA3',\n",
              " 'EState_VSA2',\n",
              " 'EState_VSA3',\n",
              " 'EState_VSA6',\n",
              " 'EState_VSA7',\n",
              " 'VSA_EState3',\n",
              " 'VSA_EState4',\n",
              " 'VSA_EState6',\n",
              " 'VSA_EState8',\n",
              " 'FractionCSP3',\n",
              " 'NumAliphaticCarbocycles',\n",
              " 'NumAromaticCarbocycles',\n",
              " 'NumAromaticRings',\n",
              " 'NumSaturatedCarbocycles',\n",
              " 'NumSaturatedRings',\n",
              " 'fr_aryl_methyl',\n",
              " 'fr_benzene',\n",
              " 'fr_bicyclic',\n",
              " 'fr_unbrch_alkane']"
            ]
          },
          "execution_count": 91,
          "metadata": {},
          "output_type": "execute_result"
        }
      ],
      "source": [
        "selectedMD_list"
      ]
    },
    {
      "cell_type": "markdown",
      "metadata": {
        "id": "m3lHIBLnC2TV"
      },
      "source": [
        "## Calculation of Molecular Descriptors of 2-methylnaphthalene (aromatic compound)"
      ]
    },
    {
      "cell_type": "code",
      "execution_count": null,
      "metadata": {
        "id": "ZUXq7uC2C2TV"
      },
      "outputs": [],
      "source": [
        "#Calculating Molecular Descriptors of 2-methylnaphthalene\n",
        "mol6 = Chem.MolFromSmiles('CC1=CC=C2C=CC=CC2=C1')"
      ]
    },
    {
      "cell_type": "code",
      "execution_count": null,
      "metadata": {
        "scrolled": true,
        "id": "2_JLkAWTC2TW",
        "outputId": "a34fbab3-296d-4aff-8d2c-29e9b5d26a7d"
      },
      "outputs": [
        {
          "name": "stdout",
          "output_type": "stream",
          "text": [
            "(2.2037037037037037, 1.3176851851851854, 1.3176851851851854, 0.5297256591150028, 142.201, 132.12099999999998, -0.018140473974228584, -0.06162970757780919, 0.018140473974228584, 0.8181818181818182, 2.3636363636363638, 2.8289012156206956, 374.45002354254177, 6.5414518843273814, 5.360173345306137, 1.904967731246847, 1.904967731246847, 1.3087426863819094, 1.3087426863819094, 487.8529731213885, 1.1168263318939629, 0.0, 17.696185628620217, 0.0, 0.0, 0.0, 0.0, 0.0, 0.0, 2.6440740740740747, 1.3228703703703706, 14.915555555555557, 2.1175, 0.09090909090909091, 0, 2, 2, 0, 0, 1, 2, 1, 0)\n"
          ]
        }
      ],
      "source": [
        "selectedMD_list\n",
        "#initialize the molecular descriptor calculator\n",
        "calc = MoleculeDescriptors.MolecularDescriptorCalculator(selectedMD_list)\n",
        "\n",
        "descs_values6=calc.CalcDescriptors(mol6)\n",
        "\n",
        "print(descs_values6)"
      ]
    },
    {
      "cell_type": "markdown",
      "metadata": {
        "id": "MZea6U2oC2TW"
      },
      "source": [
        "Based on the results above, molecular descriptor which has the largest value / plays the most significant part in predicting the normal boiling point of 2-methylnaphthalene is BertzCT.\n",
        "\n",
        "BertzCT: A topological index meant to quantify “complexity” of molecules.\n",
        "Note that fr_benzene = 2 due to the presence of aromatic structure in 2-methylnaphthalene. There is a correlation between the benzene ring and the predicted boiling point."
      ]
    },
    {
      "cell_type": "code",
      "execution_count": null,
      "metadata": {
        "scrolled": true,
        "id": "mzHaIWpbC2TX",
        "outputId": "0c7d3c01-fdd5-4529-e04c-66f1a8067ff3"
      },
      "outputs": [
        {
          "data": {
            "image/png": "[encoded data removed]",
            "text/plain": [
              "<rdkit.Chem.rdchem.Mol at 0x7fccb0522120>"
            ]
          },
          "execution_count": 102,
          "metadata": {},
          "output_type": "execute_result"
        }
      ],
      "source": [
        "mol6"
      ]
    },
    {
      "cell_type": "markdown",
      "metadata": {
        "id": "gMAXiQakC2TX"
      },
      "source": [
        "## Calculation of Molecular Descriptors of hopane (aliphatic compound)"
      ]
    },
    {
      "cell_type": "code",
      "execution_count": null,
      "metadata": {
        "id": "TqleTbraC2TY"
      },
      "outputs": [],
      "source": [
        "#Calculating Molecular Descriptors of hopane\n",
        "mol10 = Chem.MolFromSmiles('CC(C)[C@H]1CC[C@@]2(C)[C@H]1CC[C@]1(C)[C@@H]2CC[C@@H]2[C@@]3(C)CCCC(C)(C)[C@@H]3CC[C@@]12C')"
      ]
    },
    {
      "cell_type": "code",
      "execution_count": null,
      "metadata": {
        "scrolled": true,
        "id": "eoWHwuX0C2TY",
        "outputId": "02022e64-32c9-4536-af56-35fc458b203d"
      },
      "outputs": [
        {
          "name": "stdout",
          "output_type": "stream",
          "text": [
            "(2.8111642573696143, 0.5611717156317175, 0.5611717156317175, 0.4024753470253005, 412.7460000000003, 360.33000000000015, -0.023538927319912542, -0.06249823690181725, 0.023538927319912542, 0.5666666666666667, 1.8, 1.5191662859548662, 688.1518798246971, 21.74227620818978, 13.901101552495293, 13.618475625301956, 13.618475625301956, 12.131829986818444, 12.131829986818444, 4770627.7393379025, 2.52, 0.0, 126.79060485321237, 0.0, 0.0, 0.0, 27.0749523469839, 0.0, 0.0, 0.0, 2.919528026520271, 0.0, 21.399394264869205, 1.0, 5, 0, 0, 5, 5, 0, 0, 7, 0)\n"
          ]
        }
      ],
      "source": [
        "selectedMD_list\n",
        "#initialize the molecular descriptor calculator\n",
        "calc = MoleculeDescriptors.MolecularDescriptorCalculator(selectedMD_list)\n",
        "\n",
        "descs_values10 = calc.CalcDescriptors(mol10)\n",
        "\n",
        "print(descs_values10)"
      ]
    },
    {
      "cell_type": "markdown",
      "metadata": {
        "id": "uMY3IT2TC2TY"
      },
      "source": [
        "Based on the results above, molecular descriptor which has the largest correlation with predicting the normal boiling point of hopane is Ipc index.\n",
        "\n",
        "Ipc index: information for polynomial coefficients based information theory.\n",
        "\n",
        "Note that fr_benzene = 0 due to the absence of benzene ring. Therefore, there is no correlation between the benzene rings and the prediction of boiling point of hopane."
      ]
    },
    {
      "cell_type": "code",
      "execution_count": null,
      "metadata": {
        "scrolled": false,
        "id": "gaFIsIpgC2TY",
        "outputId": "6b850e04-5867-441e-98e7-39de675b3abf"
      },
      "outputs": [
        {
          "data": {
            "image/png": "[encoded data removed]",
            "text/plain": [
              "<rdkit.Chem.rdchem.Mol at 0x7fccb0cb1cb0>"
            ]
          },
          "execution_count": 103,
          "metadata": {},
          "output_type": "execute_result"
        }
      ],
      "source": [
        "mol10"
      ]
    },
    {
      "cell_type": "markdown",
      "metadata": {
        "id": "jOSVlhlkC2TZ"
      },
      "source": [
        "## Limitations of machine learning models"
      ]
    },
    {
      "cell_type": "markdown",
      "metadata": {
        "id": "ck_Nsc7vC2TZ"
      },
      "source": [
        "Machine learning models do not provide rational reasons to how predictions are made. Predicted boiling points are made by the restricted features, in this case, there are only 200 molecular descriptors.\n",
        "\n",
        "The bigger the data and the longer it is exposed to these data, the better it will perform. For example, using a system to play games and beat human opponents would require feeding the system with historical data and continuously exposing it to newly acquired data to make better predictions or decisions.\n",
        "\n",
        "\n",
        "\n",
        "Possible factors to the deviation of the predicted boiling points from experimental ones:\n",
        "Experimental boiling points usually come in ranges, and hence, there is no fixed boiling point.\n",
        "The data contains only 255 hydrocarbons. olecules with other elements besides C and H\n",
        "\n",
        "Limitation of random forest:\n",
        "Correlated features will be given equal or similar importance, but overall reduced importance compared to the same tree built without correlated counterparts.\n",
        "Random Forests and decision trees, in general, give preference to features with high cardinality ( Trees are biased to these type of variables )."
      ]
    },
    {
      "cell_type": "markdown",
      "metadata": {
        "id": "rO0JjdPEC2TZ"
      },
      "source": [
        "# Conclusion\n",
        "Based on the comparison of r^2 values among the 5 machine learning models, we have used random forest model to predict normal boiling point of the 10 new molecules. The algorithm describes 43 molecular descriptors and enables us to predict the boiling point, the heat capacity and the vapor pressure as a function of temperature.\n",
        "We also predicted the boiling point of branched aliphatic chain up to aromatic hydrocarbons.\n",
        "The number of molecular descriptors correlates to the boiling point.\n",
        "\n",
        "temperature and pressure dependence of dynamic viscosity\n",
        "and density alongside interproperty correlations across the\n",
        "temperature range to predict the kinematic viscosity at atmospheric pressure as a function of temperature. Values\n",
        "of physical properties reproduced with random forest are more accurate and consistent than the values\n",
        "reproduced by other methods. We present a summary of\n",
        "our results for the boiling point, the molar heat capacity,\n",
        "the Antoine coefficients, the flash point, the melting point\n",
        "and the kinematic viscosity in Table 6.\n",
        "Our study serves as a solid platform from which to\n",
        "further investigate physical properties of alkanes. This\n",
        "generic neural network architecture could merge sparse\n",
        "experimental data with molecular dynamics simulations\n",
        "to predict physical properties of alkanes, particularly the\n",
        "intractable properties like shear viscosity and density, enabling us to identify the alkanes that could be components\n",
        "for lubricant base oils with superior physical properties."
      ]
    }
  ],
  "metadata": {
    "hide_input": false,
    "kernelspec": {
      "display_name": "Python 3",
      "language": "python",
      "name": "python3"
    },
    "language_info": {
      "codemirror_mode": {
        "name": "ipython",
        "version": 3
      },
      "file_extension": ".py",
      "mimetype": "text/x-python",
      "name": "python",
      "nbconvert_exporter": "python",
      "pygments_lexer": "ipython3",
      "version": "3.7.3"
    },
    "varInspector": {
      "cols": {
        "lenName": 16,
        "lenType": 16,
        "lenVar": 40
      },
      "kernels_config": {
        "python": {
          "delete_cmd_postfix": "",
          "delete_cmd_prefix": "del ",
          "library": "var_list.py",
          "varRefreshCmd": "print(var_dic_list())"
        },
        "r": {
          "delete_cmd_postfix": ") ",
          "delete_cmd_prefix": "rm(",
          "library": "var_list.r",
          "varRefreshCmd": "cat(var_dic_list()) "
        }
      },
      "types_to_exclude": [
        "module",
        "function",
        "builtin_function_or_method",
        "instance",
        "_Feature"
      ],
      "window_display": false
    },
    "colab": {
      "name": "121119.ipynb",
      "provenance": [],
      "toc_visible": true
    }
  },
  "nbformat": 4,
  "nbformat_minor": 0
}